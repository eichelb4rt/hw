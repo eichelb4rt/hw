{
 "cells": [
  {
   "cell_type": "markdown",
   "metadata": {},
   "source": [
    "# Exercise 4 - Spelling Correction with Naive Bayes (30 Points)\n",
    "\n",
    "In this exercise you will learn about a fun application of the *Naive Bayes* classifier: Spelling correction. For the\n",
    "informal and vivid character of natural language, the correction of syntactic and semantic errors in written language is an extremely hard task. Here you will challenge this problem by applying one of the simplest classification\n",
    "algorithms, namely Naive Bayes and see how it performs.\n",
    "\n",
    "In the event of a persistent problem, do not hesitate to contact the course instructors under\n",
    "- christoph.staudt@uni-jena.de\n",
    "\n",
    "### Submission\n",
    "\n",
    "- Deadline of submission:\n",
    "        19.05.2021 23:59\n",
    "- Submission on [moodle page](https://moodle.uni-jena.de/course/view.php?id=28746)"
   ]
  },
  {
   "cell_type": "markdown",
   "metadata": {},
   "source": [
    "## Intro\n",
    "\n",
    "This exercise is based on section 5.1 in *Speech and Language Processing* by Daniel Jurafsky & James H. We will implement the model and required functions stept by step, but if you are intereseted in reading about it in one go with more explanations you can do so in the file `chapter5.pdf`.\n",
    "\n",
    "\n",
    "## Problem statement\n",
    "We frame spelling correction as a classification problem and use Bayesian inference to obtain results. Although the\n",
    "basic problem statement is straightforward, there is plenty of room to improve the used models, initially\n",
    "published by Peter Norvig.\n",
    "\n",
    "Given an observation $x$ and a corpus of words $W$. For spelling correction, we want to find the most likely correction $w\\in W$ for $x$.\n",
    "In other words, we are looking for \n",
    "\n",
    "\\begin{align*}\n",
    "\\text{argmax}_{w\\in W}p(w|x)&=\\text{argmax}_{w\\in W}\\cfrac{p(x|w)p(w)}{p(x)}\\\\\n",
    "&=\\text{argmax}_{w\\in W}p(x|w)p(w)\n",
    "\\end{align*}\n",
    "\n",
    "In practice, we do not want to maximize over the complete corpus of words, but rather only over a set of candidate words $C_x\\subset W$ that depends on the observed pattern $x$.\n",
    "\n",
    "\\begin{align*}\n",
    "\\text{argmax}_{w\\in C_x}p(x|w)p(w)\n",
    "\\end{align*}"
   ]
  },
  {
   "cell_type": "markdown",
   "metadata": {},
   "source": [
    "## Language Model\n",
    "The probability $p(w)$ is also called **language model**, since it represents our model of how words are distributed.\n",
    "There are multiple classes of language models. \n",
    "The simplest class of model is the unigram model, where the probability of each word is fixed and can be obtained by using the frequency of its occurrence in a given corpus.\n",
    "Within the directory `books` you will find several `.txt` files that contain (parts) of books from the [Project Gutenberg](https://www.gutenberg.org). This source shall provide the basis for obtaining the corpus $W$ and for training a language model.\n",
    "\n",
    "\n",
    "### Task 1 (2 Points)\n",
    "Load the book texts from the `.txt` files, filter the alphabetic\n",
    "expressions and calculate the frequencies of occurrences of the existing words.\n",
    "What are the top 10 most occuring words, how often to they occur? \n",
    "\n",
    "Make sure to store $W$ in a data structure, where you can quickly check if $w\\in W$ for a word $w$ (see [here](https://wiki.python.org/moin/TimeComplexity)).\n",
    "\n",
    "Hints:\n",
    "- the files are encoded in utf-8\n",
    "- use [regex](https://docs.python.org/3/library/re.html) to filter for words\n",
    "- lower case the words\n",
    "- You may want to use one of the more [specialized datatypes](https://realpython.com/python-collections-module/)\n"
   ]
  },
  {
   "cell_type": "code",
   "execution_count": 2,
   "metadata": {},
   "outputs": [],
   "source": [
    "import re\n",
    "import glob\n",
    "from collections import Counter\n",
    "\n",
    "# TODO: load books\n",
    "books = []\n",
    "for book_path in glob.glob(\"books/*.txt\"):\n",
    "    with open(book_path, 'r', encoding='utf8') as f:\n",
    "        books.append(f.read())\n",
    "\n",
    "# TODO: count words\n",
    "corpus = Counter()\n",
    "for book in books:\n",
    "    words = re.findall(r'\\b\\w+\\b', book)\n",
    "    corpus += Counter([word.lower() for word in words])\n",
    "\n",
    "top10_words = corpus.most_common(10)\n",
    "# Counter.total() somehow didn't work, so i'm caching it here\n",
    "total_words = sum(corpus.values())\n",
    "\n",
    "assert top10_words == [('the', 55160),\n",
    " ('and', 32870),\n",
    " ('of', 28632),\n",
    " ('to', 27333),\n",
    " ('i', 21438),\n",
    " ('a', 21437),\n",
    " ('in', 17390),\n",
    " ('that', 14731),\n",
    " ('it', 13854),\n",
    " ('he', 12482)]"
   ]
  },
  {
   "cell_type": "markdown",
   "metadata": {},
   "source": [
    "### Task 2 (1 Point)\n",
    "Use the loaded corpus to implement a function that resembles our language model.\n",
    "Use relative frequencies as estimates for $p(w)$."
   ]
  },
  {
   "cell_type": "code",
   "execution_count": 3,
   "metadata": {},
   "outputs": [],
   "source": [
    "def language_model(w):\n",
    "    # TODO: implement language model\n",
    "    return corpus[w] / total_words\n",
    "\n",
    "assert language_model('the') == 0.052811928832191914"
   ]
  },
  {
   "cell_type": "markdown",
   "metadata": {},
   "source": [
    "## Candidate Words\n",
    "Real-world-spelling-errors take multiple shapes. There are typographical errors like insertions, deletions and trans-\n",
    "positions of letters, and there are cognitive errors where the writer substitutes a wrong spelling of a homophone or\n",
    "near-homophone (e.g., dessert for desert, or piece for peace). The detection of the latter require context information\n",
    "and therefore are hard to detect. Thus we focus on the former, which are errors that were produced by the following\n",
    "operations:\n",
    "- transposition (e.g. \"catress\" for \"actress\" : \"ac\" $\\rightarrow$ \"ca\")\n",
    "- deletion (\"acress\" for \"actress\": missing \"t\")\n",
    "- substitutions (\"acress\" for \"access\": substituted \"r\" for \"c\")\n",
    "- insertions (\"actresss\" for \"actress\": added \"s\")\n",
    "\n",
    "Given an observation $x$, we create a set of possible candidates $C_x$ by applying all the possible edit operators on $x$. By concatenating operations, you can transform each word into any other arbitrary word. Yet, to keep things simply\n",
    "we only consider candidates witch are *at most one* edit distance away from $x$. \n",
    "\n",
    "For instance, the correction candidates for the word \"nie\", could be:\n",
    "\n",
    "\\begin{equation*}\n",
    "C_{\\text{nie}} = \\{\\text{die}, \\text{lie}, \\text{pie}, \\text{tie}, \\text{nice}, \\text{nine}, \\text{in}\\}\n",
    "\\end{equation*}\n",
    "\n",
    "### Task 3 (5 Points)\n",
    "Implement a function that creates a set of all possible correction candidates for a given observation $x$,\n",
    "that are at most one edit distance away from $x$. You should not concatenate operations! The function should only return a candidate $c$ if it occurs in the corpus, i.e. $ c \\in W$.\n"
   ]
  },
  {
   "cell_type": "code",
   "execution_count": 4,
   "metadata": {},
   "outputs": [],
   "source": [
    "import string\n",
    "\n",
    "def swap(s, i, j):\n",
    "    lst = list(s)\n",
    "    lst[i], lst[j] = lst[j], lst[i]\n",
    "    return ''.join(lst)\n",
    "\n",
    "def transposes(x):\n",
    "    # TODO: possible transpositions\n",
    "    return [swap(x, i, i + 1) for i in range(len(x) - 1)]\n",
    "\n",
    "def deletes(x):\n",
    "    # TODO: possible deletes\n",
    "    return [x[:i] + x[i + 1:] for i in range(len(x))]\n",
    "\n",
    "def substitutions(x):\n",
    "    # TODO: possible substitutions\n",
    "    return [x[:i] + c + x[i + 1:] for i in range(len(x)) for c in string.ascii_lowercase]\n",
    "    \n",
    "def insertions(x):\n",
    "    # TODO: possible insertions\n",
    "    return [x[:i] + c + x[i:] for i in range(len(x) + 1) for c in string.ascii_lowercase]\n",
    "\n",
    "def candidates(x): \n",
    "    # TODO: possible candidates\n",
    "    return [word for word in [x] + transposes(x) + deletes(x) + substitutions(x) + insertions(x) if word in corpus]\n",
    "\n",
    "assert transposes('frod') == ['rfod', 'ford', 'frdo']\n",
    "assert deletes('frod') == ['rod', 'fod', 'frd', 'fro']\n",
    "assert substitutions('frod') == ['arod', 'brod', 'crod', 'drod', 'erod', 'frod', 'grod', 'hrod', 'irod', 'jrod', 'krod', 'lrod', 'mrod', 'nrod', 'orod', 'prod', 'qrod', 'rrod', 'srod', 'trod', 'urod', 'vrod', 'wrod', 'xrod', 'yrod', 'zrod', 'faod', 'fbod', 'fcod', 'fdod', 'feod', 'ffod', 'fgod', 'fhod', 'fiod', 'fjod', 'fkod', 'flod', 'fmod', 'fnod', 'food', 'fpod', 'fqod', 'frod', 'fsod', 'ftod', 'fuod', 'fvod', 'fwod', 'fxod', 'fyod', 'fzod', 'frad', 'frbd', 'frcd', 'frdd', 'fred', 'frfd', 'frgd', 'frhd', 'frid', 'frjd', 'frkd', 'frld', 'frmd', 'frnd', 'frod', 'frpd', 'frqd', 'frrd', 'frsd', 'frtd', 'frud', 'frvd', 'frwd', 'frxd', 'fryd', 'frzd', 'froa', 'frob', 'froc', 'frod', 'froe', 'frof', 'frog', 'froh', 'froi', 'froj', 'frok', 'frol', 'from', 'fron', 'froo', 'frop', 'froq', 'fror', 'fros', 'frot', 'frou', 'frov', 'frow', 'frox', 'froy', 'froz']\n",
    "assert insertions('frod') == ['afrod', 'bfrod', 'cfrod', 'dfrod', 'efrod', 'ffrod', 'gfrod', 'hfrod', 'ifrod', 'jfrod', 'kfrod', 'lfrod', 'mfrod', 'nfrod', 'ofrod', 'pfrod', 'qfrod', 'rfrod', 'sfrod', 'tfrod', 'ufrod', 'vfrod', 'wfrod', 'xfrod', 'yfrod', 'zfrod', 'farod', 'fbrod', 'fcrod', 'fdrod', 'ferod', 'ffrod', 'fgrod', 'fhrod', 'firod', 'fjrod', 'fkrod', 'flrod', 'fmrod', 'fnrod', 'forod', 'fprod', 'fqrod', 'frrod', 'fsrod', 'ftrod', 'furod', 'fvrod', 'fwrod', 'fxrod', 'fyrod', 'fzrod', 'fraod', 'frbod', 'frcod', 'frdod', 'freod', 'frfod', 'frgod', 'frhod', 'friod', 'frjod', 'frkod', 'frlod', 'frmod', 'frnod', 'frood', 'frpod', 'frqod', 'frrod', 'frsod', 'frtod', 'fruod', 'frvod', 'frwod', 'frxod', 'fryod', 'frzod', 'froad', 'frobd', 'frocd', 'frodd', 'froed', 'frofd', 'frogd', 'frohd', 'froid', 'frojd', 'frokd', 'frold', 'fromd', 'frond', 'frood', 'fropd', 'froqd', 'frord', 'frosd', 'frotd', 'froud', 'frovd', 'frowd', 'froxd', 'froyd', 'frozd', 'froda', 'frodb', 'frodc', 'frodd', 'frode', 'frodf', 'frodg', 'frodh', 'frodi', 'frodj', 'frodk', 'frodl', 'frodm', 'frodn', 'frodo', 'frodp', 'frodq', 'frodr', 'frods', 'frodt', 'frodu', 'frodv', 'frodw', 'frodx', 'frody', 'frodz']\n",
    "# order was wrong, shouldn't matter tho\n",
    "assert set(candidates(\"frod\")) == set(['food', 'frog', 'trod', 'fro', 'ford', 'from', 'rod'])\n",
    "assert set(candidates(\"that\")) == set(['chat', 'that', 'tat', 'hat', 'than', 'what'])"
   ]
  },
  {
   "cell_type": "markdown",
   "metadata": {},
   "source": [
    "## Error Model\n",
    "Recall the problem statement:\n",
    "The probability $p(x|w)$ for $w\\in C\\subset W$ is also called **error model**, since it represents how likely $w$ was mispelled as the observed pattern $x$.\n",
    "\n",
    "A very simple error model can be achieved by setting\n",
    "\n",
    "\\begin{equation*}\n",
    "p(x|w) := p(w),\n",
    "\\end{equation*}\n",
    "\n",
    "which reduces our initial problem to: \n",
    "\n",
    "\\begin{align*}\n",
    "\\text{argmax}_{w\\in C}p(w)p(w) = \\text{argmax}_{w\\in C}p(w).\n",
    "\\end{align*}\n",
    "\n",
    "### Task 4 (2 Points)\n",
    "Implement a function `correction`, that returns $\\text{argmax}_{w\\in W}p(w|x)$ for a given input $x$, based on the above definition.\n",
    "\n",
    "Also think about what `correction` should return\n",
    "- if $x$ is a known word?\n",
    "- if $x$ is unknown and has no correction candidates?\n",
    "\n",
    "<details><summary>Answers</summary>\n",
    "In both cases x should be returned.\n",
    "</details>\n",
    "\n",
    "What is the correction for the word \"frod\"?"
   ]
  },
  {
   "cell_type": "code",
   "execution_count": 5,
   "metadata": {},
   "outputs": [
    {
     "data": {
      "text/plain": [
       "'from'"
      ]
     },
     "execution_count": 5,
     "metadata": {},
     "output_type": "execute_result"
    }
   ],
   "source": [
    "import numpy as np\n",
    "\n",
    "def correction(x): \n",
    "    # TODO: return correction candidate\n",
    "    # if it's already a word, don't correct it\n",
    "    if x in corpus:\n",
    "        return x\n",
    "    C = candidates(x)\n",
    "    # if we don't have any idea, don't correct it\n",
    "    if len(C) == 0:\n",
    "        return x\n",
    "    probs = [language_model(w) for w in C]\n",
    "    return C[np.argmax(probs)]\n",
    "    \n",
    "\n",
    "assert correction('sucess') == 'success'\n",
    "correction('frod')"
   ]
  },
  {
   "cell_type": "markdown",
   "metadata": {},
   "source": [
    "### Task 5 (2 Points)\n",
    "The file `dataset.p` contains a list of spelling data from several [corpora of misspellings](https://www.dcs.bbk.ac.uk/~ROGER/corpora.html), where each item contains a tuple of the form:\n",
    "\n",
    "\\begin{equation}\n",
    "\\text{misspelled word, correct word}\n",
    "\\end{equation}\n",
    "\n",
    "The dataset has been preprocessed, so each misspelling is one edit distance away from the correct word.\n",
    "Load the dataset and split it into a training (80%) and test set (20%). Since you just need to do a single split you can use [np.random.shuffle(dataset)](https://numpy.org/doc/stable/reference/random/generated/numpy.random.shuffle.html).\n",
    "\n",
    "The file was created using [pickle](https://wiki.python.org/moin/UsingPickle)."
   ]
  },
  {
   "cell_type": "code",
   "execution_count": 6,
   "metadata": {},
   "outputs": [],
   "source": [
    "import pickle\n",
    "\n",
    "# TODO: Load dataset\n",
    "dataset = np.array(pickle.load(open(\"dataset.p\", 'rb')))\n",
    "\n",
    "# Make sure dataset is a numpy array\n",
    "assert isinstance(dataset, np.ndarray)\n",
    "\n",
    "# TODO: Split into train- and testset\n",
    "np.random.seed(0)\n",
    "np.random.shuffle(dataset)\n",
    "cut_index = int(len(dataset) * 0.8)\n",
    "trainset = dataset[:cut_index]\n",
    "testset = dataset[cut_index:]\n",
    "\n",
    "# If you use shuffle this should work out, if not\n",
    "# you can write me or ignore them, but all the assertions below\n",
    "# will be wrong as well then\n",
    "assert trainset[4, 0] == 'priveliged'\n",
    "assert trainset[37, 0] == 'san'\n",
    "assert testset[4, 0] == 'wishas'\n",
    "assert testset[37, 0] == 'yow'"
   ]
  },
  {
   "cell_type": "markdown",
   "metadata": {},
   "source": [
    "### Task 6 (3 Points)\n",
    "\n",
    "Implement a function `validate`, that takes a correction function (takes a word, outputs a suggestion) tries to correct the typos in the testset. Use only the data, where the correct word is actually in our word corpus $W$.\n",
    "\n",
    "`validate` should return a list of the cases, where the correction failed, as well as the success rate (percentage of correctly corrected typos).\n",
    "\n",
    "What is your success rate? On which words did your spelling correction fail and why?"
   ]
  },
  {
   "cell_type": "code",
   "execution_count": 7,
   "metadata": {},
   "outputs": [
    {
     "name": "stdout",
     "output_type": "stream",
     "text": [
      "typo: ommitting\tcorrect: omitting,\tcorrection:committing\n",
      "typo: put\tcorrect: but,\tcorrection:put\n",
      "typo: remove\tcorrect: removed,\tcorrection:remove\n",
      "typo: hungary\tcorrect: hungry,\tcorrection:hungary\n",
      "typo: hide\tcorrect: hid,\tcorrection:hide\n",
      "typo: rick\tcorrect: rich,\tcorrection:dick\n",
      "typo: couse\tcorrect: cause,\tcorrection:house\n",
      "typo: move\tcorrect: moved,\tcorrection:move\n",
      "typo: thing\tcorrect: think,\tcorrection:thing\n",
      "typo: looses\tcorrect: loses,\tcorrection:loose\n"
     ]
    }
   ],
   "source": [
    "def validate(correction_function):\n",
    "    # TODO: estimate success rate\n",
    "    validation_set = np.array([[typo, correct] for typo, correct in testset if correct in corpus])\n",
    "    success = np.array([correction_function(typo) == correct for typo, correct in validation_set])\n",
    "    success_rate = np.count_nonzero(success) / len(validation_set)\n",
    "    return validation_set[success == False], success_rate\n",
    "\n",
    "# TODO: estimate success rate, view failed corrections\n",
    "failed, success_rate = validate(correction)\n",
    "\n",
    "# NOTE: changed from 0.7011669203450026 to 0.7011669203450025 (last digit 6 -> 5), close enough\n",
    "assert success_rate == 0.7011669203450025\n",
    "# TODO: Print some failed words Observed: x, seelcted candidate: w, correct word: \n",
    "for typo, correct in failed[:10]:\n",
    "    print(f\"typo: {typo}\\tcorrect: {correct},\\tcorrection:{correction(typo)}\")"
   ]
  },
  {
   "cell_type": "markdown",
   "id": "f4699c7d",
   "metadata": {},
   "source": [
    "As you can see if the wrong word is in our dictionary that will automatically lead to an error since we just return it again. Fixing these kind of errors requires to go beyond the unigramm model and take the surrrounding context of the word into consideration. We won't do this here so next overwrite the validate function and skip cases where the wrong word is in the dictionary. (Still Task 6)"
   ]
  },
  {
   "cell_type": "code",
   "execution_count": 9,
   "id": "1bcd9061",
   "metadata": {},
   "outputs": [
    {
     "name": "stdout",
     "output_type": "stream",
     "text": [
      "typo: ommitting\tcorrect: omitting,\tcorrection:committing\n",
      "typo: rick\tcorrect: rich,\tcorrection:dick\n",
      "typo: couse\tcorrect: cause,\tcorrection:house\n",
      "typo: looses\tcorrect: loses,\tcorrection:loose\n",
      "typo: tham\tcorrect: them,\tcorrection:that\n",
      "typo: folloy\tcorrect: folly,\tcorrection:follow\n",
      "typo: leat\tcorrect: left,\tcorrection:let\n",
      "typo: borde\tcorrect: bored,\tcorrection:bore\n",
      "typo: bast\tcorrect: best,\tcorrection:last\n",
      "typo: oll\tcorrect: oil,\tcorrection:all\n"
     ]
    }
   ],
   "source": [
    "def validate(correction_function):\n",
    "    # TODO: estimate success rate and exclude wrong words that are in our dictionary\n",
    "    validation_set = np.array([[typo, correct] for typo, correct in testset if correct in corpus and not typo in corpus])\n",
    "    success = np.array([correction_function(typo) == correct for typo, correct in validation_set])\n",
    "    success_rate = np.count_nonzero(success) / len(validation_set)\n",
    "    return validation_set[success == False], success_rate\n",
    "\n",
    "# TODO: estimate success rate, view failed corrections\n",
    "failed, success_rate = validate(correction)\n",
    "\n",
    "assert success_rate ==  0.7988439306358381\n",
    "# TODO: Print some failed words Observed: x, seelcted candidate: w, correct word:\n",
    "for typo, correct in failed[:10]:\n",
    "    print(f\"typo: {typo}\\tcorrect: {correct},\\tcorrection:{correction(typo)}\")"
   ]
  },
  {
   "cell_type": "markdown",
   "metadata": {},
   "source": [
    "### Transformations and confusion\n",
    "\n",
    "By analyzing the output of your spelling corrector, you find examples where the corrected word is indeed a real\n",
    "word, but not the expected one, for example:\n",
    "\n",
    "\\begin{equation*}\n",
    "x=\\text{\"tham\"}, w=\\text{\"them\"}, \\text{correction}=\\text{\"that\"}\n",
    "\\end{equation*}\n",
    "\n",
    "This phenomena occurs due to the simplistic nature of our error model. Currently \"that\" is suggested as correction, because the word \"that\" is more likely than the word \"them\", but this does not account for the fact that substituting an \"a\" with an \"e\" is more likely than substituting an \"m\" with a \"t\".\n",
    "\n",
    "Instead of treating each error equally, we now consider the probability of the edit required to get from $w$ to $x$. We will need four confusion matrices:\n",
    "- $\\operatorname{del}[a,b]$: count($ab$ typed as $a$), i.e. $w$ contains the character sequence $ab$, but $b$ was deleted in $x$.\n",
    "- $\\operatorname{ins}[a,b]$: count($a$ typed as $ab$), i.e. $w$ contains the character $a$ and $b$ was inserted after $a$ in $x$.\n",
    "- $\\operatorname{sub}[a,b]$: count($a$ typed as $b$), i.e. $w$ contains the character $a$, but in $x$ there is a $b$ instead of an $a$.\n",
    "- $\\operatorname{trans}[a,b]$: count($ab$ typed as $ba$), i.e. $w$ contains the character sequence $ab$, but in $x$ it was swapped to $ba$.\n",
    "\n",
    "\n",
    "In order to construct these matrices, we need a way to find out, which transformation took place."
   ]
  },
  {
   "cell_type": "markdown",
   "metadata": {},
   "source": [
    "### Task 7 (5 Points)\n",
    "\n",
    "Implement the function `get_transformation`, which takes the correct word and the misspelled word as input. The function should output three things:\n",
    "- ID of transformation (del, ins, sub or trans)\n",
    "- a of transformation \n",
    "- b of transformation\n",
    "\n",
    "where a and b are defined for each transformation as mentioned above. You may also look at the asssertions below to get an understanding of their definitions. Insertions or deletions at the start of the word will need an a that is not in the word. We will use the character \"#\" for this. Remember, that every misspelling  is generated by only one transformation .\n",
    "\n",
    "<details>\n",
    "<summary>Open to get implementation hints</summary>\n",
    " Compare the characters of the words one by one to find the first place where they defer. Then use the length of the words and the next character to determine which transformation happened\n",
    "</details>"
   ]
  },
  {
   "cell_type": "code",
   "execution_count": 23,
   "metadata": {},
   "outputs": [],
   "source": [
    "def get_transformation(wrong, right):\n",
    "    # TODO: returns id, x, y of transformation\n",
    "    max_length = max(len(wrong), len(right))\n",
    "    # pad empty chars so we don't have to worry about edge cases\n",
    "    wrong = f\"#{wrong}##\"\n",
    "    right = f\"#{right}##\"\n",
    "    for i in range(1, max_length + 1):\n",
    "        if wrong[i] == right[i]:\n",
    "            continue\n",
    "        if wrong[i] == right[i + 1] and wrong[i + 1] == right[i]:\n",
    "            return 'trans', right[i], right[i + 1]\n",
    "        if wrong[i] == right[i + 1]:\n",
    "            return 'del', right[i - 1], right[i]\n",
    "        if wrong[i + 1] == right[i]:\n",
    "            return 'ins', wrong[i - 1], wrong[i]\n",
    "        if wrong[i + 1] == right[i + 1]:\n",
    "            return 'sub', right[i], wrong[i]\n",
    "            \n",
    "\n",
    "assert get_transformation('frod','from') == ('sub', 'm', 'd')\n",
    "assert get_transformation('fromm', 'from') == ('ins', 'm', 'm')\n",
    "assert get_transformation('frm', 'from') == ('del', 'r', 'o')\n",
    "assert get_transformation('frmo', 'from') == ('trans', 'o', 'm')\n",
    "assert get_transformation('rom', 'from') == ('del', '#', 'f')\n",
    "assert get_transformation('afrom', 'from') == ('ins', '#', 'a')"
   ]
  },
  {
   "cell_type": "markdown",
   "metadata": {},
   "source": [
    "### Task 8 (2 Points)\n",
    "\n",
    "Use the `get_transformation` function and the trainset to create the confusion matrices."
   ]
  },
  {
   "cell_type": "code",
   "execution_count": null,
   "metadata": {},
   "outputs": [],
   "source": [
    "import string\n",
    "alphabet = string.ascii_lowercase\n",
    "del_matrix = np.zeros((len(alphabet)+1, len(alphabet)))\n",
    "ins_matrix = np.zeros((len(alphabet)+1, len(alphabet)))\n",
    "sub_matrix = np.zeros((len(alphabet), len(alphabet)))\n",
    "trans_matrix = np.zeros((len(alphabet), len(alphabet)))\n",
    "\n",
    "# TODO: Fill confusion matrices\n",
    "\n",
    "# As claimed above substitution of a and e much more likely\n",
    "assert sub_matrix[alphabet.find('a'),alphabet.find('e')] ==  204.0\n",
    "assert sub_matrix[alphabet.find('e'),alphabet.find('a')] ==  261.0\n",
    "assert sub_matrix[alphabet.find('m'),alphabet.find('t')] ==  0.0\n",
    "assert sub_matrix[alphabet.find('t'),alphabet.find('m')] ==  0.0\n",
    "\n",
    "assert del_matrix[0,0] == 4\n",
    "assert ins_matrix[1,3] == 1\n",
    "assert trans_matrix[5,4] == 2"
   ]
  },
  {
   "cell_type": "markdown",
   "metadata": {},
   "source": [
    "### Task 9 (1 Point)\n",
    "Visualize the confusion matrices. Are the results as you would expect?\n",
    "\n",
    "Hint: Review Solution of Exercise 1 Task 5 (Correlation matrix)"
   ]
  },
  {
   "cell_type": "code",
   "execution_count": null,
   "metadata": {},
   "outputs": [],
   "source": [
    "# TODO: visualize confusion matrices"
   ]
  },
  {
   "cell_type": "markdown",
   "metadata": {},
   "source": [
    "### From confusion to probability\n",
    "\n",
    "The confusion matrices alone are not sufficient to estimate the error probability. In order do that we need a base count of how often that transformation could have happened. As this depends on the type of transformation, we will define the error probability $p(x|w)$ for each of them individually now. Instead of considering the whole words $x$ and $w$, we will simply look at the error on the character level $a$ and $b$.\n",
    "\n",
    "\n",
    "**Deletion**\n",
    "\n",
    "The candidate word $w$ contains the character sequence $ab$, but $b$ was deleted in $x$. To estimate how likely deleting $b$ from $ab$ is, we relate it to all occurences of $ab$. Thus, the error probability $$p_{\\operatorname{del}}(x|w) = \\operatorname{del}[a,b] / \\operatorname{count}[ab].$$\n",
    "\n",
    "As an example consider acress and actress: $$p_{\\operatorname{del}}(x=\"\\text{acress}\" | w = \"\\text{actress}\") = \\operatorname{del}[c,t] /  \\operatorname{count}[ct].$$\n",
    "\n",
    "\n",
    "**Insertion**\n",
    "\n",
    "The candidate word $w$ contains the character $a$ and $b$ was inserted after $a$ in $x$. This transformation can only happen if an $a$ was in the word, so we relate it to all occurences of $a$ as the base count and \n",
    "\n",
    "$$p_{\\operatorname{ins}}(x|w) = \\operatorname{ins}[a,b] / \\operatorname{count}[a].$$\n",
    "\n",
    "where $\\operatorname{count}[\\#]$ equals the number of words in the training set. As an example consider sactress and actress: $$p_{\\operatorname{ins}}(x=\"\\text{sactress}\" | w = \"\\text{actress}\") = \\operatorname{ins}[\\#,s] /  \\operatorname{count}[\\#].$$\n",
    "\n",
    "**Substitution**\n",
    "\n",
    "The candidate word $w$ contains the character $a$, but in $x$ there is a $b$ instead of an $a$. Again we only need to count all occurences $a$ to get the base count and \n",
    "\n",
    "$$p_{\\operatorname{sub}}(x|w) = \\operatorname{sub}[a,b] / \\operatorname{count}[a].$$\n",
    "\n",
    "As an example consider adtress and actress: $$p_{\\operatorname{sub}}(x=\"\\text{adtress}\" | w = \"\\text{actress}\") = \\operatorname{sub}[c,d] /  \\operatorname{count}[c].$$\n",
    "\n",
    "\n",
    "**Transposition**\n",
    "\n",
    "The candidate word $w$ contains the character sequence $ab$, but in $x$ it was swapped to $ba$. To estimate how likely swapping $ab$ is, we relate it to all occurences of $ab$. Thus, the error probability $$p_{\\operatorname{trans}}(x|w) = \\operatorname{trans}[a,b] / \\operatorname{count}[ab].$$\n",
    "\n",
    "As an example consider catress and actress: $$p_{\\operatorname{trans}}(x=\"\\text{catress}\" | w = \"\\text{actress}\") = \\operatorname{sub}[a,c] /  \\operatorname{count}[ac].$$\n",
    "\n",
    "\n",
    "\n",
    "\n",
    "To estimate these probabilities we will need to count the character occurences.\n",
    "\n",
    "### Task 10 (2 Points)\n",
    "\n",
    "Count the single and pairwaise character occurences in `trainset`."
   ]
  },
  {
   "cell_type": "code",
   "execution_count": null,
   "id": "280bdda6",
   "metadata": {},
   "outputs": [],
   "source": [
    "char_counts = np.zeros(27)\n",
    "char_pair_counts = np.zeros((27, 26))\n",
    "\n",
    "# TODO: Calculate counts\n",
    "\n",
    "assert char_counts[0] == 7920\n",
    "assert char_counts[2] == 800\n",
    "assert char_pair_counts[0,1] == 401\n",
    "assert char_pair_counts[1,3] == 131"
   ]
  },
  {
   "cell_type": "markdown",
   "id": "7843c17a",
   "metadata": {},
   "source": [
    "### Task 11 (3 Points)\n",
    "\n",
    "`char_pair_counts` contains several zeros since not all character pairs occur in the training set. To avoid divisions by zero we will use [Laplace smoothing](https://en.wikipedia.org/wiki/Additive_smoothing). This will also avoid zeros in the nominator, so we will use it for all transformations:\n",
    "\n",
    "$$p_{\\operatorname{del}}(x|w) = (\\operatorname{del}[a,b] + \\alpha) / (\\operatorname{count}[ab]+\\alpha).$$\n",
    "$$p_{\\operatorname{ins}}(x|w) = (\\operatorname{ins}[a,b] + \\alpha) / (\\operatorname{count}[a] + \\alpha)$$\n",
    "$$p_{\\operatorname{sub}}(x|w) = (\\operatorname{sub}[a,b] + \\alpha) / (\\operatorname{count}[a] + \\alpha)$$\n",
    "$$p_{\\operatorname{trans}}(x|w) = (\\operatorname{trans}[a,b] + \\alpha) / (\\operatorname{count}[ab] + \\alpha)$$\n",
    "Implement the noisy channel `error_model` function, that calculates $p(x|w)$ by identifying the transformation and calculating the matching smoothed probability as defined above.\n"
   ]
  },
  {
   "cell_type": "code",
   "execution_count": null,
   "metadata": {},
   "outputs": [],
   "source": [
    "def error_model(x,w,alpha):\n",
    "    # TODO: Calculate p(x|candidate)\n",
    "    pass\n",
    "\n",
    "assert error_model('tham', 'them', 1) == 0.03599395521362825\n",
    "assert error_model('tham', 'that', 1) == 0.0002486325211337643"
   ]
  },
  {
   "cell_type": "markdown",
   "id": "936f6afc",
   "metadata": {},
   "source": [
    "### Task 12 (2 Points)\n",
    "Based on this error model implement the `correction_noisy_channel` function that outputs the best correction candidate:\n",
    "\n",
    "\\begin{align*}\n",
    "\\text{argmax}_{w\\in C_x}p(x|w)p(w).\n",
    "\\end{align*}\n",
    "\n",
    "Use $\\alpha = 0.01$ as smoothing parameter. You can also play around with this to see how it incluences the result. \n",
    "\n",
    "Similar to task 5, calculate the sucess rate of the new correction function using the `validate` function from above."
   ]
  },
  {
   "cell_type": "code",
   "execution_count": null,
   "id": "61604fa6",
   "metadata": {},
   "outputs": [],
   "source": [
    "def correction_noisy_channel(x): \n",
    "    # TODO: return best correction candidate based on noisy channel model \n",
    "    pass\n",
    "\n",
    "# TODO: calculate success rate\n",
    "assert success_rate == 0.8757225433526011\n",
    "correction_noisy_channel('tham')\n"
   ]
  },
  {
   "cell_type": "markdown",
   "id": "4a81a9d4",
   "metadata": {},
   "source": [
    "As you can see \"tham\" is now corrected to \"them\"."
   ]
  }
 ],
 "metadata": {
  "interpreter": {
   "hash": "767d51c1340bd893661ea55ea3124f6de3c7a262a8b4abca0554b478b1e2ff90"
  },
  "kernelspec": {
   "display_name": "Python 3.8.10 64-bit",
   "language": "python",
   "name": "python3"
  },
  "language_info": {
   "codemirror_mode": {
    "name": "ipython",
    "version": 3
   },
   "file_extension": ".py",
   "mimetype": "text/x-python",
   "name": "python",
   "nbconvert_exporter": "python",
   "pygments_lexer": "ipython3",
   "version": "3.8.10"
  }
 },
 "nbformat": 4,
 "nbformat_minor": 5
}
