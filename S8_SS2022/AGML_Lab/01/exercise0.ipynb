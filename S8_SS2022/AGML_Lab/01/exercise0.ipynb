{
 "cells": [
  {
   "cell_type": "markdown",
   "metadata": {},
   "source": [
    "# Exercise 0 - Getting started (8 Points)\n",
    "\n",
    "\n",
    "This exercise is meant to get you familiar with Python. Most of the following exercises are inspired by the highly recommended lecture \"Skriptsprachen und Anwendungen (ASQ)\" (FMI-BI0058) by Emanuel Barth.\n",
    "\n",
    "In the event of a persistent problem, do not hesitate to contact the course instructors under\n",
    "- christoph.staudt@uni-jena.de\n",
    "\n",
    "### Submission\n",
    "\n",
    "- Deadline of submission:\n",
    "        21.04.2022 23:59\n",
    "- Submission on [moodle page](https://moodle.uni-jena.de/course/view.php?id=28746)"
   ]
  },
  {
   "cell_type": "markdown",
   "metadata": {},
   "source": [
    "## Variables, Types\n",
    "\n",
    "In this lab, we will mostly use two basic types of variables: **numbers** and **strings**. These variables can be grouped in [**lists**](https://www.w3schools.com/python/python_lists.asp), [**dictionaries**](https://www.w3schools.com/python/python_dictionaries.asp) or [**sets**](https://www.w3schools.com/python/python_sets.asp)."
   ]
  },
  {
   "cell_type": "markdown",
   "metadata": {},
   "source": [
    "### Task 1 (0.25 Points)\n",
    "\n",
    "Create several variables:\n",
    "- `x` has the value of 3\n",
    "- `y` has the value of $2^{100}$\n",
    "- `a` is a string with the text \"pretty little string\"\n",
    "- `l` is a list, that holds `x,y` and `a`\n",
    "- `d` is a dictionary with the name and phone number of three (imaginary) people\n",
    "- `s` is a set with 5 numbers"
   ]
  },
  {
   "cell_type": "code",
   "execution_count": 10,
   "metadata": {},
   "outputs": [],
   "source": [
    "x = 3\n",
    "y = 2**100\n",
    "a = \"pretty little string\"\n",
    "l = [x, y, a]\n",
    "d = {\n",
    "    \"Hans\": 0,\n",
    "    \"Beta\": 2,\n",
    "    \"Kraut\": 42\n",
    "}\n",
    "s = {0, 1, 2, 3, 4}"
   ]
  },
  {
   "cell_type": "markdown",
   "metadata": {},
   "source": [
    "## Branches and Loops\n",
    "\n",
    "Similar to other programming languages, Python has [**for**](https://www.w3schools.com/python/python_for_loops.asp)- and [**while**](https://www.w3schools.com/python/python_while_loops.asp)- loops, as well as [**if-else**](https://www.w3schools.com/python/python_conditions.asp) conditioning.\n",
    "\n",
    "### Task 2 (0.25 Points)\n",
    "Use a for loop to iterate over the dictionary `d` and print the persons and their phone numbers."
   ]
  },
  {
   "cell_type": "code",
   "execution_count": 11,
   "metadata": {},
   "outputs": [
    {
     "name": "stdout",
     "output_type": "stream",
     "text": [
      "name: Hans,\tnumber: 0\n",
      "name: Beta,\tnumber: 2\n",
      "name: Kraut,\tnumber: 42\n"
     ]
    }
   ],
   "source": [
    "for name in d:\n",
    "    print(f\"name: {name},\\tnumber: {d[name]}\")"
   ]
  },
  {
   "cell_type": "markdown",
   "metadata": {},
   "source": [
    "### Task 3 (0.25 Points)\n",
    "Use a for loop to iterate over the set `s` and print only the even numbers."
   ]
  },
  {
   "cell_type": "code",
   "execution_count": 12,
   "metadata": {},
   "outputs": [
    {
     "name": "stdout",
     "output_type": "stream",
     "text": [
      "0\n",
      "2\n",
      "4\n"
     ]
    }
   ],
   "source": [
    "for number in s:\n",
    "    if number % 2 == 0:\n",
    "        print(number)"
   ]
  },
  {
   "cell_type": "markdown",
   "metadata": {},
   "source": [
    "### Task 4 (0.5 Points)\n",
    "Calculate the first 10 powers of 2: ($2^0,2^1,2^2,\\dots,2^9)$ \n",
    "and store them in a list\n",
    "- using a for loop\n",
    "- using a while loop\n",
    "\n",
    "[Assert](https://www.w3schools.com/python/ref_keyword_assert.asp) that results are the same. "
   ]
  },
  {
   "cell_type": "code",
   "execution_count": 13,
   "metadata": {},
   "outputs": [],
   "source": [
    "for_list = []\n",
    "for i in range(10):\n",
    "    for_list.append(2**i)\n",
    "\n",
    "while_list = []\n",
    "power_of_2 = 1\n",
    "counter = 0\n",
    "while counter < 10:\n",
    "    while_list.append(power_of_2)\n",
    "    power_of_2 *= 2\n",
    "    counter += 1\n",
    "\n",
    "assert for_list == while_list"
   ]
  },
  {
   "cell_type": "markdown",
   "metadata": {},
   "source": [
    "[Functions](https://www.w3schools.com/python/python_functions.asp) are a convenient way to encapsulate calculation steps.\n",
    "\n",
    "### Task 5 (0.25 Points)\n",
    "Create a function, that returns a list of the first $n$ [fibonacci numbers](https://en.wikipedia.org/wiki/Fibonacci_number)."
   ]
  },
  {
   "cell_type": "code",
   "execution_count": 14,
   "metadata": {},
   "outputs": [
    {
     "name": "stdout",
     "output_type": "stream",
     "text": [
      "[1, 1, 2, 3, 5, 8, 13, 21, 34, 55]\n"
     ]
    }
   ],
   "source": [
    "def fib(n):\n",
    "    if n <= 0:\n",
    "        return []\n",
    "    \n",
    "    previous = fib(n - 1)\n",
    "    next_fib = previous[-1] + previous[-2] if n > 2 else 1\n",
    "    previous.append(next_fib)\n",
    "    return previous\n",
    "\n",
    "print(fib(10))"
   ]
  },
  {
   "cell_type": "markdown",
   "metadata": {},
   "source": [
    "## Classes\n",
    "\n",
    "[**Classes**](https://www.w3schools.com/python/python_classes.asp) are a convenient way to group calculations and attributes into a single instance. In this lab we will use classes to represent algorithms.\n",
    "\n",
    "Below you find an example for an iterative algorithm, that calculates the [moving average](https://en.wikipedia.org/wiki/Moving_average) for a sequence of numbers."
   ]
  },
  {
   "cell_type": "code",
   "execution_count": 15,
   "metadata": {},
   "outputs": [],
   "source": [
    "class moving_average():\n",
    "    def __init__(self, k):\n",
    "        self.k = k\n",
    "        self.datapoints = None\n",
    "        self.averages = None\n",
    "        \n",
    "    def mean(self, datapoints):\n",
    "        return sum(datapoints)/len(datapoints)\n",
    "        \n",
    "    def fit(self,datapoints):\n",
    "        self.datapoints = datapoints\n",
    "        self.averages = []\n",
    "        if self.k < len(self.datapoints):\n",
    "            for i in range(len(self.datapoints)-self.k):\n",
    "                avg = self.mean(self.datapoints[i:i+self.k])\n",
    "                self.averages.append(avg)"
   ]
  },
  {
   "cell_type": "markdown",
   "metadata": {},
   "source": [
    "### Task 6 (0.5 Points)\n",
    "\n",
    "Create a toy dataset and use the `moving_average` class to calculate the moving average."
   ]
  },
  {
   "cell_type": "code",
   "execution_count": 16,
   "metadata": {},
   "outputs": [],
   "source": [
    "toy_dataset = [1, 2, 4, 5, 6, 1, 2, 4]\n",
    "m_avg = moving_average(3)\n",
    "m_avg.fit(toy_dataset)"
   ]
  },
  {
   "cell_type": "markdown",
   "metadata": {},
   "source": [
    "### Task 7 (2 Points)\n",
    "\n",
    "Create your own class that implements the (not efficient) approximation of pi from a [circle with known radius and area](https://academo.org/demos/estimating-pi-monte-carlo/). \n",
    "\n",
    "Use the [`random`](https://docs.python.org/3/library/random.html) package for the generation of random numbers. "
   ]
  },
  {
   "cell_type": "code",
   "execution_count": 17,
   "metadata": {},
   "outputs": [
    {
     "name": "stdout",
     "output_type": "stream",
     "text": [
      "3.140644\n"
     ]
    }
   ],
   "source": [
    "import random\n",
    "\n",
    "\n",
    "class pi_estimator:\n",
    "    def __init__(self, n):\n",
    "        self.n = n\n",
    "        self.result = None\n",
    "\n",
    "    def estimate(self):\n",
    "        n_inner = 0\n",
    "        for _ in range(self.n):\n",
    "            x = random.random()\n",
    "            y = random.random()\n",
    "            if x**2 + y**2 <= 1:\n",
    "                n_inner += 1\n",
    "        self.result = 4 * n_inner / self.n\n",
    "\n",
    "\n",
    "pi_est = pi_estimator(1000000)\n",
    "pi_est.estimate()\n",
    "print(pi_est.result)"
   ]
  },
  {
   "cell_type": "markdown",
   "metadata": {},
   "source": [
    "## Numpy and Matplotlib\n",
    "\n",
    "In the context of scientific computing, [NumPy](https://numpy.org/) is one of the most important packages in Python. \n",
    "\n",
    "### Task 8 (2 Point)\n",
    "Install (not needed if using anaconda) and import numpy. Create a numpy array with 10 numbers. Multiply this array by 10 and calculate the mean of the array."
   ]
  },
  {
   "cell_type": "code",
   "execution_count": 18,
   "metadata": {},
   "outputs": [
    {
     "name": "stdout",
     "output_type": "stream",
     "text": [
      "45.0\n"
     ]
    }
   ],
   "source": [
    "import numpy as np\n",
    "\n",
    "np_arr = np.array([0, 1, 2, 3, 4, 5, 6, 7, 8, 9])\n",
    "np_arr *= 10\n",
    "my_avg = np_arr.mean()\n",
    "print(my_avg)"
   ]
  },
  {
   "cell_type": "markdown",
   "metadata": {},
   "source": [
    "### Task 9 (2 Points)\n",
    "\n",
    "Use numpy to calculate the function \n",
    "\\begin{equation}\n",
    "f(x) = x^2-10\\sin(2x)\n",
    "\\end{equation}\n",
    "for $x=1,\\dots,50$. \n",
    "\n",
    "Use [Matplotlib](https://matplotlib.org/) to draw the function."
   ]
  },
  {
   "cell_type": "code",
   "execution_count": 19,
   "metadata": {},
   "outputs": [
    {
     "data": {
      "image/png": "[encoded data removed]",
      "text/plain": [
       "<Figure size 432x288 with 1 Axes>"
      ]
     },
     "metadata": {
      "needs_background": "light"
     },
     "output_type": "display_data"
    }
   ],
   "source": [
    "import matplotlib.pyplot as plot\n",
    "\n",
    "f = lambda x: x**2 - 10 * np.sin(2 * x)\n",
    "x = np.array(range(1, 51))\n",
    "\n",
    "plot.plot(x, f(x))\n",
    "plot.show()"
   ]
  }
 ],
 "metadata": {
  "kernelspec": {
   "display_name": "Python 3",
   "language": "python",
   "name": "python3"
  },
  "language_info": {
   "codemirror_mode": {
    "name": "ipython",
    "version": 3
   },
   "file_extension": ".py",
   "mimetype": "text/x-python",
   "name": "python",
   "nbconvert_exporter": "python",
   "pygments_lexer": "ipython3",
   "version": "3.8.10"
  }
 },
 "nbformat": 4,
 "nbformat_minor": 4
}
