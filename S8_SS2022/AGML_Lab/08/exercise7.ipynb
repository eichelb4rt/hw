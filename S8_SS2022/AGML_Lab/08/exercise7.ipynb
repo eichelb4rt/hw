{
 "cells": [
  {
   "cell_type": "markdown",
   "metadata": {},
   "source": [
    "# Exercise 8 - Conjoint Analysis (22 Points)\n",
    "\n",
    "In the event of a persistent problem, do not hesitate to contact the course instructors under\n",
    "- christoph.staudt@uni-jena.de\n",
    "\n",
    "### Submission\n",
    "\n",
    "- Deadline of submission:\n",
    "        10.06.2022 14:00\n",
    "- Submission on [moodle page](https://moodle.uni-jena.de/course/view.php?id=28746)\n"
   ]
  },
  {
   "cell_type": "markdown",
   "id": "5c32db4c",
   "metadata": {},
   "source": [
    "# Conjoint Analysis\n",
    "\n",
    "Conjoint Analysis is about learning preferences (i.e. young people prefer beer over scotch) from data. It is covered in the last chapter of the script and most likely won't be reached in the lecture anymore. Thus, we will have a look at the topic in this Lab. You will only need the first two pages of the chapter to solve this exercise and I copied the relevant parts into this notebook for convenience. I also extended them with some exmaples.\n",
    "\n",
    "Assume that we are given a set $A$ of *options*. In a preference elicitation\n",
    "task we provide respondents with two options $a,b\\in A$ and ask them\n",
    "to point out their preferred option. Note that an option can have multiple features like a (big,green,pickup) vs a (small,red,motorcycle).  From a sequence of such\n",
    "*choice tasks* we want to learn a *value function*\n",
    "$$\n",
    "v: A\\rightarrow \\mathbb{R}\n",
    "$$\n",
    "that we want to use for predicting the outcome of choice tasks as\n",
    "follows\n",
    "$$\n",
    "a \\,\\succeq\\, b, \\,\\textsf{ if }\\, v(a) \\,\\geq\\, v(b), \n",
    "$$\n",
    "where $\\preceq$ symbolizes the preference relation.  The value\n",
    "function provides us with metric information that can be interpreted\n",
    "as a degree of confidence in our prediction, i.e., we are more\n",
    "confident in our prediction, if the difference $|v(a)-v(b)|$ is large\n",
    "compared to the difference of the value function on other pairs of\n",
    "choice options. We will see that we can learn $v$ with methods we already know.\n",
    "\n",
    "\n",
    "In *conjoint analysis* we make two additional assumptions. First,\n",
    "we assume that the option space $A$ is a Cartesian product of finite\n",
    "sets $A_i,\\in i\\in [n]$, i.e.,\n",
    "$$\n",
    "A \\,=\\, A_1\\times \\ldots \\times A_n.\n",
    "$$\n",
    "Second, we assume that the value function can be decomposed linearly,\n",
    "i.e.,\n",
    "$$\n",
    "v \\,=\\, \\sum_{i=1}^n v_i,\\: \\textsf{ with }\\:\n",
    "v_i:A_i\\rightarrow\\mathbb{R}.\n",
    "$$\n",
    "\n",
    "The functions $v_i,\\, i\\in [n]$ are called *partworth functions*.\n"
   ]
  },
  {
   "cell_type": "markdown",
   "id": "3b54ce48",
   "metadata": {},
   "source": [
    "\n",
    "---\n",
    "\n",
    "Reusing the example from above $A$ could look like this:\n",
    "$$A= A_1 \\times A_2 \\times A_3$$ \n",
    "for\n",
    "$$\\quad A_1 = \\{\\text{small},\\text{medium},\\text{big}\\}, \\quad A_2= \\{\\text{red},\\text{green},\\text{blue}\\}, \\quad A_3 = \\{\\text{pickup},\\text{car},\\text{motorcycle},\\text{bycicle}\\}.$$\n",
    "\n",
    "\n",
    "The function $v_i$ could look like this: \n",
    "\n",
    "\n",
    "| $a_1$      \t| small \t| medium \t| big \t| \n",
    "|------------\t|-------\t|--------\t|-----\t|\n",
    "| $v_1(a_1)$ \t| 1     \t| 2      \t| 1   \t|\n",
    "\n",
    "<br />\n",
    "\n",
    "\n",
    "| $a_2$      \t| red    \t| green \t| blue \t| \n",
    "|------------\t|-------\t|--------\t|-----\t|\n",
    "| $v_3(a_3)$ \t| 2     \t| 1      \t| 4   \t|\n",
    "\n",
    "<br />\n",
    "\n",
    "| $a_3$      \t| pickup \t| car   \t| motorcycle \t| bycicle |\n",
    "|------------\t|-------\t|--------\t|-----\t        | ------  |\n",
    "| $v_3(a_3)$ \t| 1     \t| 3      \t| 1   \t        | 5       |\n",
    "\n",
    "---\n",
    "\n",
    "Since the sets $A_i,\\, i\\in [n]$ are finite, $v_i(a)$ for $a \\in A_i$ only maps to a finite number of values too. Therefore, the problem\n",
    "of estimating the value function $v$ from a sequence of choice data\n",
    "boils down to estimating a vector $v\\in \\mathbb{R}^{k}$, where\n",
    "$$\n",
    "k\\,=\\, \\sum_{i=1}^n k_i \\:\\textsf{ and }\\: k_i \\,=\\, |A_i|. \\quad (\\text{in our example: } k=\\sum_{i=1}^3 k_i = 3+3+4=10) \n",
    "$$\n",
    "\n",
    "For $a=(a_1,\\ldots,a_n)\\in A$ the values $v_i(a_i),\\, i\\in [n]$ are\n",
    "called the *partworth values*. The name conjoint analysis\n",
    "stresses the fact the partworth values are measured *jointly* in\n",
    "the choice experiments.\n",
    "\n",
    "The vector $v\\in \\mathbb{R}^{k}$ is just the vector of all partworth\n",
    "values. The entries in $v$ are ordered according to the natural order\n",
    "on $[n]$ and arbitrary but fixed orders on each of the sets\n",
    "$A_i$. Using this ordering, an element $a\\in A$ can be represented by\n",
    "a characteristic vector $\\textsf{vec}(1)_a \\in \\{0,1\\}^k$ that has\n",
    "exactly $n$ entries whose value is $1$, namely one entry for every set\n",
    "$A_i,i\\in [n]$, and $k-n$ entries that are $0$.\n",
    "\n",
    "---\n",
    "\n",
    "In our Example: $v=(1,2,1,2,1,4,1,3,1,5)$\n",
    "\n",
    "And for $a$=(big,green,pickup) $\\textsf{vec}(1)_a = (0,0,1,0,1,0,1,0,0,0)$\n",
    "\n",
    "---\n"
   ]
  },
  {
   "cell_type": "markdown",
   "id": "d14473aa",
   "metadata": {},
   "source": [
    "\n",
    "Assume now that we are given choice data of the form\n",
    "$$\n",
    "\\big( (a^{(1)},b^{(1)}),y^{(1)}\\big),\\ldots,\\big(\n",
    "(a^{(m)},b^{(m)}),y^{(m)}\\big),\n",
    "$$\n",
    "where the $a^{(i)}, b^{(i)}\\in A$ are two choice options, and\n",
    "$y^{(i)}=1$, if $a^{(i)}$ is preferred over $b^{(i)}$, and\n",
    "$y^{(i)}=-1$ otherwise. The value function $v$ should satisfy the following constraints\n",
    "$$\n",
    "y^{(i)} \\big( v(a^{(i)}) - v(b^{(i)})\\big) \\,\\geq\\, 0.\n",
    "$$\n",
    "\n",
    "Using the characteristic vectors $\\textsf{vec}(1)_a,\\, a\\in A$ we can\n",
    "rewrite these constraints as\n",
    "$$\n",
    "y^{(i)} \\big(\\textsf{vec}(1)_{a^{(i)}} -\n",
    "\\textsf{vec}(1)_{b^{(i)}}\\big)^\\top v \\,\\geq\\, 0,\n",
    "$$\n",
    "if we define $\\,n^{(i)} = \\textsf{vec}(1)_{a^{(i)}} - \\textsf{vec}(1)_{b^{(i)}} \\in \\{-1,0,1\\}^k,\\, i\\in [n]$, as\n",
    "$$\n",
    "y^{(i)} {n^{(i)}}^\\top v \\,\\geq\\, 0.\n",
    "$$\n",
    "\n",
    "The $n^{(i)},\\, i\\in [m]$ can be considered as normal vectors of\n",
    "hyperplanes that pass through the origin. Hence, the data for a\n",
    "conjoint analysis problem are labeled hyperplanes\n",
    "$$\n",
    "(n^{(1)},y^{(1)}),\\ldots, (n^{(m)},y^{(m)}) \\,\\in\\, \\{-1,0,1\\}^k\n",
    "\\times \\{\\pm 1\\}\n",
    "$$\n",
    "and the sought for model is given by a partworth value vector $v\\in \\mathbb{R}^{k}$. This formulation makes it possible to learn $v$ using binary classification methods, like logistic regression.\n",
    "\n"
   ]
  },
  {
   "cell_type": "markdown",
   "id": "017e96c2",
   "metadata": {},
   "source": [
    "\n",
    "## The Dataset\n",
    "\n",
    "In this exercise we will use preprocessed [statistics of Bundesliga clubs](https://www.whoscored.com/Regions/81/Tournaments/3/Seasons/6902/Stages/15243/TeamStatistics/Germany-Bundesliga-2017-2018) to predict their ranking in the table. Each dataset has the following attributes:\n",
    "\n",
    "- `Team`: team name\n",
    "- `Shots pg`: average shots on opponent goal per game\n",
    "- `Yellow cards`: number of yellow cards\n",
    "- `Red cards`: number of red cards\n",
    "- `Possession%`: average ball possession percentage per game\n",
    "- `Pass%`: average percentage of sucessful passes\n",
    "- `AerialsWon`: average number of aerial duels won per game\n",
    "- `Rank`: rank in the table\n",
    "\n",
    "Each of these attributes was discretized into 3 buckets based on the values within the season:\n",
    "\n",
    "- 0: lower third, i.e. values below 1/3 of the maximum for this feature.\n",
    "- 1: central third, i.e. values above 1/3 and below 2/3 of the maximum for this feature.\n",
    "- 2: upper third, i.e. values above 2/3 of the maximum for this feature.\n",
    "\n",
    "### Task 1 (1 Point)\n",
    "\n",
    "Load and inspect the dataset for the season 2017/2018 stored in `buli_1718.csv`. I recommend to use pandas to do both."
   ]
  },
  {
   "cell_type": "code",
   "execution_count": 127,
   "metadata": {
    "scrolled": true
   },
   "outputs": [
    {
     "name": "stdout",
     "output_type": "stream",
     "text": [
      "                   Team  Shots pg  Yellow cards  Red cards  Possession%  \\\n",
      "0         Bayern Munich         2             0          0            2   \n",
      "1              Freiburg         0             0          2            0   \n",
      "2         VfB Stuttgart         0             1          0            0   \n",
      "3   Borussia M.Gladbach         1             0          0            1   \n",
      "4            Hoffenheim         1             2          0            0   \n",
      "5      Bayer Leverkusen         2             1          1            1   \n",
      "6            Schalke 04         0             2          0            0   \n",
      "7               FC Koln         0             2          0            0   \n",
      "8          Hamburger SV         0             1          1            0   \n",
      "9     Borussia Dortmund         1             0          1            2   \n",
      "10        Hertha Berlin         0             0          1            0   \n",
      "11             Mainz 05         1             1          1            0   \n",
      "12          Hannover 96         1             2          0            0   \n",
      "13             Augsburg         1             2          0            0   \n",
      "14        Werder Bremen         1             1          0            0   \n",
      "15           RB Leipzig         1             0          2            1   \n",
      "16  Eintracht Frankfurt         0             2          0            0   \n",
      "17            Wolfsburg         0             1          2            0   \n",
      "\n",
      "    Pass%  AerialsWon  Rank  \n",
      "0       2           0     1  \n",
      "1       0           2    15  \n",
      "2       0           1     7  \n",
      "3       1           0     9  \n",
      "4       1           0     3  \n",
      "5       1           0     5  \n",
      "6       1           0     2  \n",
      "7       0           1    18  \n",
      "8       0           1    17  \n",
      "9       1           1     4  \n",
      "10      0           2    10  \n",
      "11      0           2    14  \n",
      "12      0           2    13  \n",
      "13      0           2    12  \n",
      "14      0           1    11  \n",
      "15      1           1     6  \n",
      "16      0           1     8  \n",
      "17      1           1    16  \n"
     ]
    }
   ],
   "source": [
    "# TODO: load season 2017/2018 dataset\n",
    "import pandas as pd\n",
    "df = pd.read_csv(\"buli_1718.csv\")\n",
    "print(df)"
   ]
  },
  {
   "cell_type": "markdown",
   "metadata": {},
   "source": [
    "### Task 2 (4 Points) Preprocess dataset\n",
    "\n",
    "In conjoint analysis the dataset has to be a series of choice tasks\n",
    "\\begin{equation}\n",
    "((a^{(i)},b^{(i)}),y^{(i)})\\,,\n",
    "\\end{equation}\n",
    "where $y^{(i)}=1$, if $a$ has been chosen and $-1$ otherwise.\n",
    "\n",
    "We can transform our dataset into choice tasks if we consider $a$ and $b$ as the properties of teams and choose the team with the higher ranking. Of course $a$ and $b$ are **not** containing the ranking themselves.\n",
    "\n"
   ]
  },
  {
   "cell_type": "code",
   "execution_count": 128,
   "metadata": {},
   "outputs": [],
   "source": [
    "# TODO: Tranform into dataset ((a,b),y)\n",
    "n_teams = len(df)\n",
    "features = df.to_numpy()[:, 1:-1]\n",
    "ranks = df.to_numpy()[:, -1]\n",
    "options = np.array([[features[a], features[b]] for a in range(n_teams) for b in range(a + 1, n_teams)]) # list of tuples (a,b)\n",
    "choices = np.array([1 if ranks[a] < ranks[b] else -1 for a in range(n_teams) for b in range(a + 1, n_teams)]) # list of y\n",
    "\n",
    "assert len(options) == 153\n",
    "assert len(choices) == 153\n",
    "# shots, y cards, r cards, possesion, pass, aerials\n",
    "assert [2, 0, 0, 2, 2, 0] in  [list(item[0]) for item in options]\n",
    "assert [0, 0, 2, 0, 0, 2] in [list(item[1]) for item in options]\n",
    "assert sum(choices) == 29"
   ]
  },
  {
   "cell_type": "markdown",
   "metadata": {},
   "source": [
    "### Task 3 (2 Points) Transform to characteristic vector\n",
    "\n",
    "Implement a function `vec`, that transforms $a^{(i)}$ into $\\textsf{vec}(1)_{a^{(i)}}$. "
   ]
  },
  {
   "cell_type": "code",
   "execution_count": 129,
   "metadata": {},
   "outputs": [],
   "source": [
    "import numpy as np\n",
    "\n",
    "\n",
    "N_CLASSES = 3\n",
    "\n",
    "def vec(a):\n",
    "    # TODO: Tranform item into vectorized form\n",
    "    vec_a = [0] * N_CLASSES * len(a)\n",
    "    # index i, class c\n",
    "    for i, c in enumerate(a):\n",
    "        vec_a[i * N_CLASSES + c] = 1\n",
    "    return np.array(vec_a)\n",
    "\n",
    "assert np.allclose(\n",
    "    vec([2, 0, 1, 2, 2, 0]),\n",
    "    np.array(\n",
    "        [\n",
    "            0.0,\n",
    "            0.0,\n",
    "            1.0,\n",
    "            1.0,\n",
    "            0.0,\n",
    "            0.0,\n",
    "            0.0,\n",
    "            1.0,\n",
    "            0.0,\n",
    "            0.0,\n",
    "            0.0,\n",
    "            1.0,\n",
    "            0.0,\n",
    "            0.0,\n",
    "            1.0,\n",
    "            1.0,\n",
    "            0.0,\n",
    "            0.0,\n",
    "        ]\n",
    "    ),\n",
    ")"
   ]
  },
  {
   "cell_type": "markdown",
   "metadata": {},
   "source": [
    "### Task 4 (1 Point) Normal vector\n",
    "Now use `vec` to transform $((a^{(i)},b^{(i)}),y^{(i)})$ into $(n^{(i)},y^{(i)})$ for $\\,n^{(i)} = \\textsf{vec}(1)_{a^{(i)}} - \\textsf{vec}(1)_{b^{(i)}} \\in \\{-1,0,1\\}^k,\\, i\\in [n]$"
   ]
  },
  {
   "cell_type": "code",
   "execution_count": 130,
   "metadata": {},
   "outputs": [
    {
     "name": "stdout",
     "output_type": "stream",
     "text": [
      "[[-1  0  1 ...  1  0 -1]\n",
      " [-1  0  1 ...  1 -1  0]\n",
      " [ 0 -1  1 ...  0  0  0]\n",
      " ...\n",
      " [-1  1  0 ...  0  0  0]\n",
      " [-1  1  0 ...  0  0  0]\n",
      " [ 0  0  0 ...  0  0  0]]\n"
     ]
    }
   ],
   "source": [
    "# TODO: Transform dataseet to use the normal vector\n",
    "normal_options = np.array([vec(a) - vec(b) for a, b in options])\n",
    "print(normal_options)"
   ]
  },
  {
   "cell_type": "markdown",
   "metadata": {},
   "source": [
    "# Estimation of partworth vector\n",
    "\n",
    "Now we have a set of labeled hyperplanes and are looking for a value function, that can predict which hyperplane we choose. Our main assumption is, that this function is based on a vector of partworths $v$.\n",
    "\n",
    "### Task 5 (2 Points)\n",
    "See above, how the value function is defined and implement a version `value`, that takes an item $a$ from the dataset and a partworth vector $v$ as input and outputs the value of $a$."
   ]
  },
  {
   "cell_type": "code",
   "execution_count": 131,
   "metadata": {},
   "outputs": [],
   "source": [
    "def value(a, v):\n",
    "    # TODO: implement value function\n",
    "    return vec(a) @ v\n",
    "\n",
    "assert np.isclose(\n",
    "    value(\n",
    "        [2, 0, 0, 2, 2, 0],\n",
    "        np.array(\n",
    "            [\n",
    "                -0.52913869,\n",
    "                -0.24177654,\n",
    "                0.77091523,\n",
    "                1.01233499,\n",
    "                -0.43182966,\n",
    "                -0.58050533,\n",
    "                1.11086899,\n",
    "                -0.03757881,\n",
    "                -1.07329018,\n",
    "                0.03699142,\n",
    "                -0.55302226,\n",
    "                0.51603084,\n",
    "                -0.98155901,\n",
    "                0.4883774,\n",
    "                0.49318161,\n",
    "                0.2981997,\n",
    "                -0.0130916,\n",
    "                -0.2851081,\n",
    "            ]\n",
    "        ),\n",
    "    ),\n",
    "    4.20153136,\n",
    "    0.00001,\n",
    ")"
   ]
  },
  {
   "cell_type": "markdown",
   "metadata": {},
   "source": [
    "\n",
    "### Task 6 (2 Points)\n",
    "\n",
    "Estimate $v$ using [Logistic Regression](https://scikit-learn.org/stable/modules/generated/sklearn.linear_model.LogisticRegression.html), take care to set the right parameters, i.e. do you need to fit the intercept?"
   ]
  },
  {
   "cell_type": "code",
   "execution_count": 132,
   "metadata": {},
   "outputs": [],
   "source": [
    "# TODO: use logistic regression to estimate v\n",
    "from sklearn.linear_model import LogisticRegression\n",
    "\n",
    "clf = LogisticRegression(fit_intercept=False, random_state=0).fit(normal_options, choices)\n",
    "v = clf.coef_\n",
    "\n",
    "\n",
    "# This might not work, but I believe it should\n",
    "assert np.allclose(v,np.array([-0.5334730689056519,\n",
    " -0.2901350223844856,\n",
    " 0.8236080912901382,\n",
    " 0.6557172973240942,\n",
    " -0.43613564958276047,\n",
    " -0.2195816477413344,\n",
    " 0.733201669586001,\n",
    " 0.04388070900973205,\n",
    " -0.7770823785957331,\n",
    " -0.06204036402459023,\n",
    " -0.6597617281269711,\n",
    " 0.7218020921515613,\n",
    " -0.947254938547856,\n",
    " 0.5530318302558357,\n",
    " 0.39422310829201995,\n",
    " 0.6447842697632419,\n",
    " -0.17582400348232136,\n",
    " -0.4689602662809207]),0.001)"
   ]
  },
  {
   "cell_type": "markdown",
   "metadata": {},
   "source": [
    "### Task 7 (2 Points)\n",
    "Implement a `predict` function, that takes two items and the partworth vector and outputs -1 or 1.\n",
    "\n",
    "Test this function on the dataset and determine the accuracy."
   ]
  },
  {
   "cell_type": "code",
   "execution_count": 133,
   "metadata": {},
   "outputs": [
    {
     "name": "stdout",
     "output_type": "stream",
     "text": [
      "Accuracy: 0.7777777777777778\n"
     ]
    }
   ],
   "source": [
    "def predict(a, b, v):\n",
    "    # TODO: predict 1 or -1\n",
    "    return 1 if (vec(a) - vec(b)) @ v.T >= 0 else -1\n",
    "\n",
    "# TODO: determine accuracy\n",
    "\n",
    "predictions = np.array([predict(a, b, v) for a, b in options])\n",
    "acc = np.mean(choices == predictions)\n",
    "\n",
    "\n",
    "# Bayern should be predicted to be better than Wolfsburg\n",
    "assert predict([2, 0, 0, 2, 2, 0], [0, 1, 2, 0, 1, 1],v) == 1\n",
    "# Print accuracy, should be around 79%\n",
    "print(f\"Accuracy: {acc}\")"
   ]
  },
  {
   "cell_type": "markdown",
   "metadata": {},
   "source": [
    "The estimated partworth vector contains information on the importance of the features on the table rank.\n",
    "\n",
    "As an example, there are three entries in $v$, that correspond to `shots pg` being below average, average or above average in the season. We would expect above average to have the highest value among these three, because teams with more shots per game tend to score more goals and win more games.\n",
    "\n",
    "### Task 8 (2 Points)\n",
    "Visualize the information contained in the partworth vector. How do you interpret this information? Is everything as you would expect?"
   ]
  },
  {
   "cell_type": "code",
   "execution_count": 134,
   "metadata": {
    "scrolled": true
   },
   "outputs": [
    {
     "data": {
      "image/png": "[encoded data removed]",
      "text/plain": [
       "<Figure size 504x720 with 6 Axes>"
      ]
     },
     "metadata": {
      "needs_background": "light"
     },
     "output_type": "display_data"
    }
   ],
   "source": [
    "# TODO: visualize + interpret priorities set by v, you can use imshow for this again for example\n",
    "import matplotlib.pyplot as plt\n",
    "\n",
    "\n",
    "feature_names = [str(index) for index in df.keys()[1:-1]]\n",
    "N_FEATURES = len(feature_names)\n",
    "\n",
    "fig, axs = plt.subplots(N_FEATURES, 1, sharex=True, figsize=(7,10))\n",
    "for i in range(N_FEATURES):\n",
    "    importances = v[0][i * N_CLASSES : (i + 1) * N_CLASSES]\n",
    "    colors = [\"red\" if importance < 0 else \"blue\" for importance in importances]\n",
    "    axs[i].set_title(feature_names[i])\n",
    "    axs[i].barh([\"below average\", \"average\", \"above average\"], importances, color=colors)\n",
    "plt.tight_layout()\n",
    "plt.show()"
   ]
  },
  {
   "cell_type": "markdown",
   "metadata": {},
   "source": [
    "# Prediction of table ranking\n",
    "\n",
    "Besides getting an inside into the effect of certain attributes, we can also use the partworth vector to predict the ranking of other items."
   ]
  },
  {
   "cell_type": "markdown",
   "metadata": {},
   "source": [
    "### Task 9 (1 Point)\n",
    "\n",
    "Load the dataset for the season 2018/2019 stored in `buli_1819.csv`."
   ]
  },
  {
   "cell_type": "code",
   "execution_count": 135,
   "metadata": {
    "scrolled": false
   },
   "outputs": [],
   "source": [
    "# TODO: load season 2018/2019 dataset\n",
    "df = pd.read_csv(\"buli_1819.csv\")"
   ]
  },
  {
   "cell_type": "markdown",
   "metadata": {},
   "source": [
    "### Task 10 (2 Points)\n",
    "\n",
    "Print the table that you would predict with the partworth vector we estimated from the season 2017/2018. I.e. sort the table from the new dataset according to your value function defined above, using your estimated v.\n",
    "\n",
    "Hint: If Bayern is somewhere on top and Nürnberg somewhere on the bottom, its a good rating ^^"
   ]
  },
  {
   "cell_type": "code",
   "execution_count": 136,
   "metadata": {
    "scrolled": true
   },
   "outputs": [
    {
     "name": "stdout",
     "output_type": "stream",
     "text": [
      "[['Bayern Munich' 2 0 1 2 2 0 1]\n",
      " ['Bayer Leverkusen' 1 0 0 2 2 0 4]\n",
      " ['Borussia Dortmund' 0 0 1 2 2 0 2]\n",
      " ['Borussia M.Gladbach' 1 0 0 1 2 0 5]\n",
      " ['Hoffenheim' 2 2 1 1 1 0 9]\n",
      " ['Freiburg' 0 1 1 0 1 0 13]\n",
      " ['Wolfsburg' 0 2 0 1 1 1 6]\n",
      " ['Werder Bremen' 1 1 1 1 1 1 8]\n",
      " ['Augsburg' 1 1 0 0 0 1 15]\n",
      " ['Mainz 05' 1 1 0 0 0 1 12]\n",
      " ['Fortuna Duesseldorf' 0 2 0 0 0 1 10]\n",
      " ['RB Leipzig' 1 2 0 0 0 2 3]\n",
      " ['Hertha Berlin' 0 2 2 0 1 2 11]\n",
      " ['Eintracht Frankfurt' 0 1 1 0 0 2 7]\n",
      " ['Schalke 04' 0 2 2 0 0 1 14]\n",
      " ['Nuernberg' 0 1 2 0 0 1 18]\n",
      " ['Hannover 96' 0 1 2 0 0 1 17]\n",
      " ['VfB Stuttgart' 0 2 2 0 0 2 16]]\n"
     ]
    }
   ],
   "source": [
    "from functools import cmp_to_key\n",
    "\n",
    "# TODO: print predicted table\n",
    "df_numpy = df.to_numpy()\n",
    "compare = lambda team_a, team_b: - predict(team_a[1:-1], team_b[1:-1], v)\n",
    "predicted_rankings = np.array(sorted(df_numpy, key=cmp_to_key(compare)))\n",
    "\n",
    "# looks like a good rating :D\n",
    "print(predicted_rankings)"
   ]
  },
  {
   "cell_type": "markdown",
   "metadata": {},
   "source": [
    "We saw, that $v$ implies an order (ranking) among the items, which results in a table prediction.\n",
    "\n",
    "### Task 11 (3 Points)\n",
    "\n",
    "Define some measure of quality to quantify how good the prediction of the table is compared to the true ranking in the table."
   ]
  },
  {
   "cell_type": "code",
   "execution_count": 140,
   "metadata": {},
   "outputs": [
    {
     "name": "stdout",
     "output_type": "stream",
     "text": [
      "2.6666666666666665\n",
      "0.14814814814814814\n"
     ]
    }
   ],
   "source": [
    "# TODO: quantify quality of predicted ranking compared to true ranking\n",
    "true_ranks = predicted_rankings[:, -1]\n",
    "predicted_ranks = np.arange(len(predicted_rankings)) + 1\n",
    "# this is not invariant to the number of teams in the roster, but i think the mean absolute distance of rank is still a good measure\n",
    "print(np.mean(np.abs(true_ranks - predicted_ranks)))\n",
    "# this is almost the same, just with the relative distance instead of the absolute distance\n",
    "print(np.mean(np.abs((true_ranks - predicted_ranks) / len(predicted_rankings))))"
   ]
  }
 ],
 "metadata": {
  "kernelspec": {
   "display_name": "Python 3",
   "language": "python",
   "name": "python3"
  },
  "language_info": {
   "codemirror_mode": {
    "name": "ipython",
    "version": 3
   },
   "file_extension": ".py",
   "mimetype": "text/x-python",
   "name": "python",
   "nbconvert_exporter": "python",
   "pygments_lexer": "ipython3",
   "version": "3.8.5"
  }
 },
 "nbformat": 4,
 "nbformat_minor": 5
}
