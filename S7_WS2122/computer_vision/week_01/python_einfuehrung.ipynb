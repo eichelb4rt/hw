{
 "cells": [
  {
   "cell_type": "markdown",
   "metadata": {},
   "source": [
    "# Aufgabe 1: Python-Tutorial\n",
    "*Hinweis*: Auch wenn Sie schon Erfahrung mit Python haben, sollten Sie das Tutorial dennoch durchlesen. Da die folgenden Aufgaben stärker auf die selbstständige Lösung und die Arbeit mit der Dokumentation setzen, ist eine gute Grundlage Voraussetzung."
   ]
  },
  {
   "cell_type": "markdown",
   "metadata": {},
   "source": [
    "## Interaktive Notizbücher\n",
    "In dieser Übung werden wir mit interaktiven Notizbüchern arbeiten. Hier sind Code und Text in einem Dokument gemischt. Einzelne Abschnitte oder auch *Zellen* können entweder Code oder Text enthalten. Codezellen können jederzeit ausgeführt werden. Dazu können die Schaltflächen neben den jeweiligen Zellen, die Symbolleiste oder die Tastenkombination <span class=\"label label-default\">⇧</span> + <span class=\"label label-default\">⏎</span> verwendet werden.\n",
    "\n",
    "Probieren Sie aus, die folgende Codezelle auszuführen:"
   ]
  },
  {
   "cell_type": "code",
   "execution_count": 1,
   "metadata": {},
   "outputs": [
    {
     "name": "stdout",
     "output_type": "stream",
     "text": [
      "Hello World\n"
     ]
    }
   ],
   "source": [
    "print('Hello World')"
   ]
  },
  {
   "cell_type": "markdown",
   "metadata": {},
   "source": [
    "### Reihenfolge\n",
    "Neben der Codezeile wird eine laufende Nummer für jede Ausführung angezeigt. Es ist wichtig auf die Reihenfolge der Ausführung zu achten, insbesondere wenn globale Variablen betroffen sind. Schauen Sie in den folgenden Zellen, wie die Ausführungsreihenfolge die Ausgabe beeinflusst, und beobachten Sie die laufenden Nummern:"
   ]
  },
  {
   "cell_type": "code",
   "execution_count": 2,
   "metadata": {},
   "outputs": [],
   "source": [
    "a = 4"
   ]
  },
  {
   "cell_type": "code",
   "execution_count": 3,
   "metadata": {},
   "outputs": [],
   "source": [
    "a = a * 2"
   ]
  },
  {
   "cell_type": "code",
   "execution_count": 4,
   "metadata": {},
   "outputs": [],
   "source": [
    "a = 3"
   ]
  },
  {
   "cell_type": "code",
   "execution_count": 5,
   "metadata": {},
   "outputs": [
    {
     "name": "stdout",
     "output_type": "stream",
     "text": [
      "3\n"
     ]
    }
   ],
   "source": [
    "print(a)"
   ]
  },
  {
   "cell_type": "markdown",
   "metadata": {},
   "source": [
    "### Ausgabe\n",
    "Zusätzlich zur Ausgabe durch Funktionen wie `print` wird nach der Ausführung der Wert des Ausdrucks letzten Zeile angezeigt, solange es nicht der leere Wert ist. Das ist zum Beispiel bei Zuweisungen und Funktionsaufrufen ohne Rückgabewert der Fall."
   ]
  },
  {
   "cell_type": "code",
   "execution_count": 6,
   "metadata": {},
   "outputs": [
    {
     "data": {
      "text/plain": [
       "3"
      ]
     },
     "execution_count": 6,
     "metadata": {},
     "output_type": "execute_result"
    }
   ],
   "source": [
    "a"
   ]
  },
  {
   "cell_type": "markdown",
   "metadata": {},
   "source": [
    "### Zurücksetzen\n",
    "Der Python-Prozess, der die Codezellen ausführt, wird auch *Kernel* genannt. Falls der Kernel abstürzt oder einen unbrauchbaren Zustand erreicht hat, kann er über das Kernel-Menu zurückgesetzt werden. Dabei können auch die Ausgaben unter den Codezellen entfernt werden. Falls nur die Ausgaben entfernt werden sollen, ist das Cell-Menü die richtige Wahl.\n",
    "\n",
    "Um ein Notizbuch einmal komplett wie ein Programm auszuführen, können Sie die Option *Restart & Run All* verwenden. Sie sollten in den späteren Übungen darauf achten, dass das mit ihren Notizbüchern möglich ist und auch zu korrekten Ergebnissen führt."
   ]
  },
  {
   "cell_type": "markdown",
   "metadata": {},
   "source": [
    "## Python als Programmiersprache\n",
    "Es gibt mehrere Gründe für die aktuelle Beliebtheit von Python in Forschung und Lehre. Einerseits ist die Sprache selbst einfach gehalten und intuitiv verständlich, aber gleichzeitig sehr ausdrucksstark. Andererseits ist das Ökosystem um Python gut aufgestellt. Bibliotheken sind einfach zu installieren und vielfältig verfügbar.\n",
    "\n",
    "In dieser Übung setzen wir die aktuelle Version Python 3 ein. Viele ältere Projekte sind in der Version 2 programmiert, zu welcher die aktuelle Variante *nicht* abwärtskompatibel ist.\n",
    "\n",
    "Im Folgenden soll ein kurzer Überblick über die Sprache gegeben werden. Für weitere Übungen ist das Buch  [The Python Workbook](https://www.springer.com/de/book/9783319142395) empfehlenswert. Aufgrund seiner Konzeption ist Python gut für \"learning by doing\" geeignet und dieser Ansatz wird auch in der Übung verfolgt - daher beschränkt sich diese Aufgabe auf die wesentlichen Elemente."
   ]
  },
  {
   "cell_type": "markdown",
   "metadata": {},
   "source": [
    "### Syntax\n",
    "Im Studium werden Sie sich mit C und Java beschäftigt haben, die beide eine ähnliche Syntax zueinander aufweisen. Zu diesen Gemeinsamkeiten gehört auch, dass Whitespace (also Leerzeichen, Tabs und Zeilenumbrüche) keinen Einfluss auf das Programm hat. Bei Python ist Whitespace ein essentieller Bestandteil der Syntax. Einzelne Anweisungen werden nicht durch ein Semikolon getrennt, sondern durch einen Zeilenumbruch.\n",
    "\n",
    "Um Blöcke zu strukturieren, verwendet Python **Einrückungen** statt Klammern. Ein Block wird normalerweise durch einen `:` am Ende der vorherigen Zeile eingeleitet:"
   ]
  },
  {
   "cell_type": "code",
   "execution_count": 7,
   "metadata": {},
   "outputs": [
    {
     "name": "stdout",
     "output_type": "stream",
     "text": [
      "A ist größer als B!\n",
      "B ist größer als A!\n"
     ]
    }
   ],
   "source": [
    "a = 15\n",
    "b = 12\n",
    "if a > b:\n",
    "    print('A ist größer als B!')\n",
    "    b = a + 1\n",
    "print('B ist größer als A!')"
   ]
  },
  {
   "cell_type": "markdown",
   "metadata": {},
   "source": [
    "Aufgrund der Einrückung ist leicht zu erkennen, wo der Block endet. Während ein schlecht oder nicht eingerücktes C-Programm nur unleserlich ist, würde es in Python nicht einmal der Syntax entsprechen."
   ]
  },
  {
   "cell_type": "markdown",
   "metadata": {},
   "source": [
    "**Anweisungen** können beliebige Ausdrücke sein. Wichtig sind dabei vor allem **Zuweisungen**. Eine Besonderheit von Python ist, das Variablen vor der Verwendung nicht deklariert werden müssen:"
   ]
  },
  {
   "cell_type": "code",
   "execution_count": 8,
   "metadata": {},
   "outputs": [],
   "source": [
    "a = 3"
   ]
  },
  {
   "cell_type": "markdown",
   "metadata": {},
   "source": [
    "**Funktionsaufrufe** sind auch Anweisungen:"
   ]
  },
  {
   "cell_type": "code",
   "execution_count": 9,
   "metadata": {},
   "outputs": [
    {
     "data": {
      "text/plain": [
       "5"
      ]
     },
     "execution_count": 9,
     "metadata": {},
     "output_type": "execute_result"
    }
   ],
   "source": [
    "max(3,5)"
   ]
  },
  {
   "cell_type": "markdown",
   "metadata": {},
   "source": [
    "Mit **Klammern** und **Operatoren** lassen sich beliebige Ausdrücke zusammensetzen."
   ]
  },
  {
   "cell_type": "code",
   "execution_count": 10,
   "metadata": {},
   "outputs": [],
   "source": [
    "a = 4 + (3 - 18)\n",
    "b = True and (not False) and (a > 5)"
   ]
  },
  {
   "cell_type": "markdown",
   "metadata": {},
   "source": [
    "Mit `#` lassen sich Kommentarzeilen einleiten. Mehrzeilige Kommentare werden mit `\"\"\"` umschlossen, sind aber eigentlich mehrzeilige Zeichenketten:"
   ]
  },
  {
   "cell_type": "code",
   "execution_count": 11,
   "metadata": {},
   "outputs": [],
   "source": [
    "# Eine Kommentarzeile\n",
    "\"\"\" Noch zwei\n",
    "    Kommentarzeilen \"\"\"\n",
    "# Wieder ein Kommentar\n",
    "a = \"\"\" Das ist eigentlich kein Kommentar, sondern\n",
    "        eine mehrzeilige Zeichenkette :) \"\"\""
   ]
  },
  {
   "cell_type": "markdown",
   "metadata": {},
   "source": [
    "### Grundlegende Datentypen\n",
    "Python ist eine Sprache mit dynamischen Datentypen. Variablen müssen nicht mit festem Typen deklariert werden und können sich auch zur Laufzeit ändern. Dennoch existiert das Konzept von Typen in Python und sie können auch explizit verwendet werden. Folgende grundlegende Datentypen gibt es:"
   ]
  },
  {
   "cell_type": "markdown",
   "metadata": {},
   "source": [
    "**Zeichenketten** `str` können mit einfachen oder doppelten Anführungszeichen umschlossen werden. Die beiden Varianten sind absolut gleichwertig:"
   ]
  },
  {
   "cell_type": "code",
   "execution_count": 12,
   "metadata": {},
   "outputs": [
    {
     "data": {
      "text/plain": [
       "str"
      ]
     },
     "execution_count": 12,
     "metadata": {},
     "output_type": "execute_result"
    }
   ],
   "source": [
    "a = \"Dies ist eine Zeichenkette.\"\n",
    "a = 'Dies ist eine Zeichenkette.'\n",
    "type(a)"
   ]
  },
  {
   "cell_type": "markdown",
   "metadata": {},
   "source": [
    "**Ganze Zahlen** `int` können in vielen Stellenwertsystemen angegeben werden:"
   ]
  },
  {
   "cell_type": "code",
   "execution_count": 13,
   "metadata": {},
   "outputs": [
    {
     "data": {
      "text/plain": [
       "int"
      ]
     },
     "execution_count": 13,
     "metadata": {},
     "output_type": "execute_result"
    }
   ],
   "source": [
    "a = 12\n",
    "a = 0xC\n",
    "a = 0b1100\n",
    "a = 0o14\n",
    "type(a)"
   ]
  },
  {
   "cell_type": "markdown",
   "metadata": {},
   "source": [
    "**Gleitkommazahlen** `float` können mit Dezimalpunkt `.` oder in wissenschaftlicher Notation geschrieben werden:"
   ]
  },
  {
   "cell_type": "code",
   "execution_count": 14,
   "metadata": {},
   "outputs": [
    {
     "data": {
      "text/plain": [
       "float"
      ]
     },
     "execution_count": 14,
     "metadata": {},
     "output_type": "execute_result"
    }
   ],
   "source": [
    "a = 1.3726\n",
    "a = 8.4e-7\n",
    "type(a)"
   ]
  },
  {
   "cell_type": "markdown",
   "metadata": {},
   "source": [
    "**Boolesche Werte** `bool` können `True` oder `False` sein:"
   ]
  },
  {
   "cell_type": "code",
   "execution_count": 15,
   "metadata": {},
   "outputs": [
    {
     "data": {
      "text/plain": [
       "bool"
      ]
     },
     "execution_count": 15,
     "metadata": {},
     "output_type": "execute_result"
    }
   ],
   "source": [
    "a = True\n",
    "a = not a\n",
    "type(a)"
   ]
  },
  {
   "cell_type": "markdown",
   "metadata": {},
   "source": [
    "Zuletzt gibt es noch das Schlüsselwort `None`, das für **leere Ausdrücke** steht. Es ist vergleichbar mit dem `null`-Literal aus Java."
   ]
  },
  {
   "cell_type": "code",
   "execution_count": 16,
   "metadata": {},
   "outputs": [
    {
     "data": {
      "text/plain": [
       "NoneType"
      ]
     },
     "execution_count": 16,
     "metadata": {},
     "output_type": "execute_result"
    }
   ],
   "source": [
    "type(None)"
   ]
  },
  {
   "cell_type": "markdown",
   "metadata": {},
   "source": [
    "### Komplexe Datentypen\n",
    "Zusätzlich zu diesen grundlegenden Datentypen gibt es noch einige komplexe Datentypen, die mehrere Werte zusammenfassen können."
   ]
  },
  {
   "cell_type": "markdown",
   "metadata": {},
   "source": [
    "Es gibt **Listen** `list`, die folgendermaßen definiert werden:"
   ]
  },
  {
   "cell_type": "code",
   "execution_count": 3,
   "metadata": {},
   "outputs": [],
   "source": [
    "a = [1,2,3,4]"
   ]
  },
  {
   "cell_type": "markdown",
   "metadata": {},
   "source": [
    "Die Funktion `len` ordnet einer Liste ihre Länge zu:"
   ]
  },
  {
   "cell_type": "code",
   "execution_count": 4,
   "metadata": {},
   "outputs": [
    {
     "data": {
      "text/plain": [
       "4"
      ]
     },
     "execution_count": 4,
     "metadata": {},
     "output_type": "execute_result"
    }
   ],
   "source": [
    "len(a)"
   ]
  },
  {
   "cell_type": "markdown",
   "metadata": {},
   "source": [
    "Um auf einen oder mehrere Werte in einer Liste zuzugreifen, verwenden Sie die eckigen Klammern `[ ]` mit einem **Index**. Python indiziert Listen ab `0`, wobei zusätzlich `-1` auf das letzte Element verweist, `-2` auf das vorletzte und so weiter:"
   ]
  },
  {
   "cell_type": "code",
   "execution_count": 19,
   "metadata": {},
   "outputs": [
    {
     "name": "stdout",
     "output_type": "stream",
     "text": [
      "4\n",
      "3\n",
      "0\n"
     ]
    }
   ],
   "source": [
    "a = [4,3,5,7,6,0,1]\n",
    "\n",
    "print(a[0])\n",
    "a[2] = 3\n",
    "print(a[2])\n",
    "print(a[-2])"
   ]
  },
  {
   "cell_type": "markdown",
   "metadata": {},
   "source": [
    "Für den Zugriff auf mehrere Werte kann mit `[` *anfang* `:` *ende* `]` ein **Bereich** angegeben werden, wobei *ende* das erste *nicht* enthaltene Element bezeichnet. Werden *anfang* oder *ende* weggelassen, wird der Bereich in die entsprechende Richtung so groß wie möglich gewählt."
   ]
  },
  {
   "cell_type": "code",
   "execution_count": 20,
   "metadata": {},
   "outputs": [
    {
     "name": "stdout",
     "output_type": "stream",
     "text": [
      "[0, 1]\n",
      "[4]\n",
      "[0, 0, 1]\n"
     ]
    }
   ],
   "source": [
    "a = [4,3,5,7,6,0,1]\n",
    "\n",
    "print(a[5:7])\n",
    "print(a[:1])\n",
    "a[3:5] = [0, 0]\n",
    "print(a[4:])"
   ]
  },
  {
   "cell_type": "markdown",
   "metadata": {},
   "source": [
    "Neben Listen gibt es noch **Tupel** `tuple`. Auf diese kann nur lesend zugegriffen werden. Sie eignen sich besonders, um Daten verschiedener Typen zu strukturieren. Bei Tupeln können die Klammern je nach Situation auch weggelassen werden, z.B. bei Zuweisungen."
   ]
  },
  {
   "cell_type": "code",
   "execution_count": 21,
   "metadata": {},
   "outputs": [
    {
     "data": {
      "text/plain": [
       "tuple"
      ]
     },
     "execution_count": 21,
     "metadata": {},
     "output_type": "execute_result"
    }
   ],
   "source": [
    "a = ('Hamburger', 450)\n",
    "b = 'Veggieburger', 435\n",
    "type(b)"
   ]
  },
  {
   "cell_type": "markdown",
   "metadata": {},
   "source": [
    "Der **Formatierungsoperator** `%` erwartet auf der linken Seite eine Zeichenkette mit einem Format. Auf der rechten Seite wird ein Tupel übergeben, wobei hier die Klammer *nicht* weggelassen werden können, weil der `%`-Operator dem Komma vorgezogen wird."
   ]
  },
  {
   "cell_type": "code",
   "execution_count": 22,
   "metadata": {},
   "outputs": [
    {
     "name": "stdout",
     "output_type": "stream",
     "text": [
      "Der Hamburger wiegt 450 Gramm.\n",
      "Der Veggieburger wiegt 435 Gramm.\n",
      "Der Cheeseburger wiegt 530 Gramm.\n"
     ]
    }
   ],
   "source": [
    "message = \"Der %s wiegt %d Gramm.\"\n",
    "print(message % a)\n",
    "print(message % b)\n",
    "print(message % ('Cheeseburger', 530))  # Hier müssen Klammern hin"
   ]
  },
  {
   "cell_type": "markdown",
   "metadata": {},
   "source": [
    "Tupel können außerdem auch auf der linken Seite von Zuweisungen eingesetzt werden, um **Mehrfachzuweisungen** vorzunehmen:"
   ]
  },
  {
   "cell_type": "code",
   "execution_count": 23,
   "metadata": {},
   "outputs": [
    {
     "name": "stdout",
     "output_type": "stream",
     "text": [
      "12\n",
      "4\n"
     ]
    }
   ],
   "source": [
    "a, b = 12, 4\n",
    "print(a)\n",
    "print(b)"
   ]
  },
  {
   "cell_type": "markdown",
   "metadata": {},
   "source": [
    "Eine weitere, etwas dynamischere Struktur ist das **Dictionary** `dict`. Es ist eine Sammlung von Schlüssel-Wert-Paaren, wobei ein Schlüssel als Index für den Zugriff auf den Wert verwendet wird. Für Schlüssel und Werte können jeweils beliebige Typen verwendet werden."
   ]
  },
  {
   "cell_type": "code",
   "execution_count": 24,
   "metadata": {},
   "outputs": [
    {
     "name": "stdout",
     "output_type": "stream",
     "text": [
      "True\n",
      "Max Mustermann\n",
      "[1, 2, 3]\n"
     ]
    }
   ],
   "source": [
    "a = {'Name': 'Max Mustermann', 4711: True, False: [1,2,3]}\n",
    "print(a[4711])\n",
    "print(a['Name'])\n",
    "print(a[False])"
   ]
  },
  {
   "cell_type": "markdown",
   "metadata": {},
   "source": [
    "### Kontrollstrukturen\n",
    "Python arbeitet Anweisungen grundsätzlich Zeile für Zeile der Reihe nach ab. Der Programmfluss kann wie in den meisten Programmiersprachen durch Verzweigungen und Wiederholungen kontrolliert werden."
   ]
  },
  {
   "cell_type": "markdown",
   "metadata": {},
   "source": [
    "**Verzweigungen** knüpfen die Ausführung von Anweisungen an eine Bedingung. Sie werden durch die Schlüsselwörter `if`, `elif` und `else` beschrieben:"
   ]
  },
  {
   "cell_type": "code",
   "execution_count": 25,
   "metadata": {},
   "outputs": [
    {
     "name": "stdout",
     "output_type": "stream",
     "text": [
      "Rest 31\n"
     ]
    }
   ],
   "source": [
    "if 301 % 45 == 31:\n",
    "    print('Rest 31')\n",
    "elif 301 % 45 == 18:\n",
    "    print('Rest 18')\n",
    "else:\n",
    "    print('Anderer Rest')"
   ]
  },
  {
   "cell_type": "markdown",
   "metadata": {},
   "source": [
    "**Wiederholungen** können in Form von `for`- und `while`-Schleifen auftreten.\n",
    "Beide Schleifen können mit `break` beendet werden und überspringen mit `continue` einen Durchlauf. Die `for`-Schleife erwartet als Argument einen Ausdruck, der durchlaufen werden kann. Das kann zum Beispiel eine Liste oder ein Tupel sein. Die `while`-Schleife prüft vor jedem Durchlauf eine Bedingung:"
   ]
  },
  {
   "cell_type": "code",
   "execution_count": 26,
   "metadata": {},
   "outputs": [
    {
     "name": "stdout",
     "output_type": "stream",
     "text": [
      "I like Hamburger\n",
      "Me too!\n",
      "Me too!\n",
      "Me too!\n",
      "I like Cheeseburger\n",
      "I like Veggieburger\n",
      "Me too!\n",
      "Me too!\n",
      "Me too!\n"
     ]
    }
   ],
   "source": [
    "for food in ['Hamburger', 'Cheeseburger', 'Veggieburger']:\n",
    "    print('I like ' + food)\n",
    "    \n",
    "    i = 3\n",
    "    while i > 0:\n",
    "        if food == 'Cheeseburger':\n",
    "            break  # Bricht die innere Schleife ab.\n",
    "        print('Me too!')\n",
    "        i -= 1"
   ]
  },
  {
   "cell_type": "markdown",
   "metadata": {},
   "source": [
    "Neben Listen können auch spezielle **Iteratoren** verwendet werden, um Programm effizienter zu gestalten. Mit `range` kann eine klassische von-bis-Schleife realisiert werden. Hier gilt wie für die Indizes, dass der Parameter für das Ende das erste *nicht* enthaltene Element beschreibt."
   ]
  },
  {
   "cell_type": "code",
   "execution_count": 27,
   "metadata": {},
   "outputs": [
    {
     "name": "stdout",
     "output_type": "stream",
     "text": [
      "4999999\n"
     ]
    }
   ],
   "source": [
    "j = 0\n",
    "for i in range(1, 5000000):\n",
    "    j = i\n",
    "print(j)"
   ]
  },
  {
   "cell_type": "markdown",
   "metadata": {},
   "source": [
    "Weil wir hier einen speziellen Iterator verwendet haben, wird zu keiner Zeit eine Liste mit den Zahlen von 1 bis 4.999.999 gespeichert."
   ]
  },
  {
   "cell_type": "markdown",
   "metadata": {},
   "source": [
    "### Funktionen\n",
    "In Python können mit dem Schlüsselwort `def` Funktionen definiert werden. Auch hier müssen weder für Argumente noch für Rückgabewerte Typen angegeben werden. Mit `return` können beliebige Werte zurückgegeben werden, insbesondere auch Tupel. Fehlt die `return`-Anweisung, wird `None` zurückgegeben."
   ]
  },
  {
   "cell_type": "code",
   "execution_count": 28,
   "metadata": {},
   "outputs": [
    {
     "name": "stdout",
     "output_type": "stream",
     "text": [
      "Ergebnis: 5 mit Rest 2\n"
     ]
    }
   ],
   "source": [
    "def division_with_rest(dividend, divisor):\n",
    "    rest = dividend\n",
    "    result = 0\n",
    "    while rest > divisor:\n",
    "        result += 1\n",
    "        rest -= divisor\n",
    "    return result, rest\n",
    "\n",
    "result17, rest17 = division_with_rest(17, 3)\n",
    "print('Ergebnis: %d mit Rest %d' % (result17, rest17))"
   ]
  },
  {
   "cell_type": "markdown",
   "metadata": {},
   "source": [
    "Für Funktionen können auch **Default**-Argumente angegeben werden. Damit die Reihenfolge für den Aufrufer nicht unübersichtlich wird, können die Argumente beim Aufruf auch benannt werden:"
   ]
  },
  {
   "cell_type": "code",
   "execution_count": 29,
   "metadata": {},
   "outputs": [
    {
     "name": "stdout",
     "output_type": "stream",
     "text": [
      "1, 2, 3\n",
      "1, 18, 3\n",
      "1, 18, 3\n",
      "1, 2, -12\n",
      "1, 13, 3\n"
     ]
    }
   ],
   "source": [
    "def fancy_function(first, second=2, third=3):\n",
    "    print('%d, %d, %d' % (first, second, third))\n",
    "\n",
    "fancy_function(1)\n",
    "fancy_function(1, 18)\n",
    "fancy_function(1, second=18)\n",
    "fancy_function(1, third=-12)\n",
    "fancy_function(second=13, first=1)"
   ]
  },
  {
   "cell_type": "markdown",
   "metadata": {},
   "source": [
    "## Pakete\n"
   ]
  },
  {
   "cell_type": "markdown",
   "metadata": {},
   "source": [
    "Python kommt mit einer reichhaltigen Auswahl an Zusatzbibliotheken. Außerdem gibt es ganze Distributionen wie [Anaconda](https://www.anaconda.com/download/), die mit einem komfortablen Paketmanager ausgeliefert werden. Dadurch können Python-Programme mit wenig Aufwand plattformunabhängig gemacht werden."
   ]
  },
  {
   "cell_type": "markdown",
   "metadata": {},
   "source": [
    "Um auf Funktionen außerhalb des eigenen Programms zuzugreifen, werden **Module** importiert. Module sind gewöhnliche Python-Programme, in denen Funktionen definiert werden. Da Python keine Zugriffsmodifizierer kennt, sind alle Funktionen öffentlich. Um Module zu importieren, wird die `import`-Anweisung verwendet:"
   ]
  },
  {
   "cell_type": "code",
   "execution_count": 30,
   "metadata": {},
   "outputs": [
    {
     "data": {
      "text/plain": [
       "3.141592653589793"
      ]
     },
     "execution_count": 30,
     "metadata": {},
     "output_type": "execute_result"
    }
   ],
   "source": [
    "import math\n",
    "math.pi"
   ]
  },
  {
   "cell_type": "markdown",
   "metadata": {},
   "source": [
    "Manche Pakete haben umständliche Namen. Daher können mit dem `as`-Schlüsswort `import`-Anweisungen um einen **Alias** ergänzt werden. Sie können so unter anderen Namen verwendet werden:"
   ]
  },
  {
   "cell_type": "code",
   "execution_count": 31,
   "metadata": {},
   "outputs": [
    {
     "data": {
      "text/plain": [
       "1.5"
      ]
     },
     "execution_count": 31,
     "metadata": {},
     "output_type": "execute_result"
    }
   ],
   "source": [
    "import statistics as stats\n",
    "stats.mean([1,2])"
   ]
  },
  {
   "cell_type": "markdown",
   "metadata": {},
   "source": [
    "Falls nur einzelne Funktionen aus einem Modul benötigt werden, können diese mit `from` in den globalen Namensraum importiert werden:"
   ]
  },
  {
   "cell_type": "code",
   "execution_count": 32,
   "metadata": {},
   "outputs": [
    {
     "data": {
      "text/plain": [
       "2"
      ]
     },
     "execution_count": 32,
     "metadata": {},
     "output_type": "execute_result"
    }
   ],
   "source": [
    "from random import randint\n",
    "randint(1,3)"
   ]
  },
  {
   "cell_type": "markdown",
   "metadata": {},
   "source": [
    "Auch hier sind Aliase möglich:"
   ]
  },
  {
   "cell_type": "code",
   "execution_count": 33,
   "metadata": {},
   "outputs": [
    {
     "data": {
      "text/plain": [
       "4.77698744227884"
      ]
     },
     "execution_count": 33,
     "metadata": {},
     "output_type": "execute_result"
    }
   ],
   "source": [
    "from random import choice as ch, uniform as uni\n",
    "uni(3,5)"
   ]
  },
  {
   "cell_type": "markdown",
   "metadata": {},
   "source": [
    "### Numpy\n",
    "Im Paket `numpy` sind viele wichtige Funktionen und Typen für das wissenschaftliche Rechnen enthalten. Besonders wichtig sind die n-dimensionalen Arrays, durch die z.B. Bilder dargestellt werden können. So können viele Operationen in einer vektorisierten Schreibweise durchgeführt werden."
   ]
  },
  {
   "cell_type": "code",
   "execution_count": 18,
   "metadata": {},
   "outputs": [],
   "source": [
    "import numpy as np"
   ]
  },
  {
   "cell_type": "markdown",
   "metadata": {},
   "source": [
    "Um ein **Array** zu erstellen, kann `ndarray` verwendet werden. Dazu muss die gewünschte Größe `shape` des Arrays angegeben werden. Es wird standardmaßig nicht mit Nullen initialisiert:"
   ]
  },
  {
   "cell_type": "code",
   "execution_count": 26,
   "metadata": {},
   "outputs": [
    {
     "name": "stdout",
     "output_type": "stream",
     "text": [
      "[[0. 0. 0.]\n",
      " [0. 0. 0.]]\n"
     ]
    }
   ],
   "source": [
    "a = np.ndarray(shape=(2,3))\n",
    "print(a)"
   ]
  },
  {
   "cell_type": "markdown",
   "metadata": {},
   "source": [
    "Alternativ können bestehende Listen oder verschachtelte Liste zu Arrays **konvertiert** werden. Dazu können die Funktionen `array` und `asarray` verwendet werden, wobei erstere die Daten kopiert während letzere die Daten nach Möglichkeit an der urprünglichen Stelle weiterverwendet:"
   ]
  },
  {
   "cell_type": "code",
   "execution_count": 36,
   "metadata": {},
   "outputs": [
    {
     "name": "stdout",
     "output_type": "stream",
     "text": [
      "(2, 5)\n"
     ]
    }
   ],
   "source": [
    "a = [[1, 2, 3, 4, 5],[6, 7, 8, 9, 10]]\n",
    "b = np.array(a)\n",
    "print(b.shape)"
   ]
  },
  {
   "cell_type": "markdown",
   "metadata": {},
   "source": [
    "Da das Array mehrere Dimensionen hat, können zum Zugriff auch **mehrdimensionale Indizes** verwendet werden:"
   ]
  },
  {
   "cell_type": "code",
   "execution_count": 37,
   "metadata": {},
   "outputs": [
    {
     "name": "stdout",
     "output_type": "stream",
     "text": [
      "3\n"
     ]
    }
   ],
   "source": [
    "print(b[0,2])"
   ]
  },
  {
   "cell_type": "markdown",
   "metadata": {},
   "source": [
    "Indizes mit weniger Dimensionen führen zum Zugriff auf **Teilarrays**:"
   ]
  },
  {
   "cell_type": "code",
   "execution_count": 38,
   "metadata": {},
   "outputs": [
    {
     "name": "stdout",
     "output_type": "stream",
     "text": [
      "[1 2 3 4 5]\n"
     ]
    }
   ],
   "source": [
    "print(b[0])"
   ]
  },
  {
   "cell_type": "markdown",
   "metadata": {},
   "source": [
    "Auch die Kombination mit **Bereichsindizes** ist erlaubt:"
   ]
  },
  {
   "cell_type": "code",
   "execution_count": 39,
   "metadata": {},
   "outputs": [
    {
     "name": "stdout",
     "output_type": "stream",
     "text": [
      "[8 9]\n"
     ]
    }
   ],
   "source": [
    "print(b[1,2:4])"
   ]
  },
  {
   "cell_type": "markdown",
   "metadata": {},
   "source": [
    "Wenn dieselbe Operation auf mehrere Element eines Arrays angewandt werden soll, kann **Broadcasting** verwendet werden. Solange die rechte Seite einer Operation weniger Dimensionen oder in einer Dimension weniger Elemente hat als die linke, werden die Elemente der rechten Seite für die Operation passend vervielfältigt:"
   ]
  },
  {
   "cell_type": "code",
   "execution_count": 40,
   "metadata": {},
   "outputs": [
    {
     "name": "stdout",
     "output_type": "stream",
     "text": [
      "[[  10   20   30   40   50]\n",
      " [ -60  -70  -80  -90 -100]]\n",
      "[[ 1 -2  3 -4  5]\n",
      " [ 6 -7  8 -9 10]]\n",
      "[[ 3  6  9 12 15]\n",
      " [18 21 24 27 30]]\n"
     ]
    }
   ],
   "source": [
    "print(b * [[10],[-10]])\n",
    "print(b * [1, -1, 1, -1, 1])\n",
    "print(b * [3])"
   ]
  },
  {
   "cell_type": "markdown",
   "metadata": {},
   "source": [
    "Nach diesem kurzen Überblick verfügen Sie über ausreichende Grundkenntnisse in der Programmiersprache Python. Falls Sie Interesse haben, die Sprache tiefgründiger zu lernen, besuchen Sie [learnpython.org](https://www.learnpython.org/). Dort finden Sie weiterführendes Material."
   ]
  }
 ],
 "metadata": {
  "kernelspec": {
   "display_name": "Python 3 (ipykernel)",
   "language": "python",
   "name": "python3"
  },
  "language_info": {
   "codemirror_mode": {
    "name": "ipython",
    "version": 3
   },
   "file_extension": ".py",
   "mimetype": "text/x-python",
   "name": "python",
   "nbconvert_exporter": "python",
   "pygments_lexer": "ipython3",
   "version": "3.8.5"
  }
 },
 "nbformat": 4,
 "nbformat_minor": 2
}
